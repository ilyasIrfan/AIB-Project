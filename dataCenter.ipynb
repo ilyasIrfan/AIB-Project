{
 "cells": [
  {
   "cell_type": "code",
   "execution_count": 1,
   "metadata": {
    "id": "b381fd68"
   },
   "outputs": [],
   "source": [
    "import numpy as np\n",
    "import pandas as pd\n",
    "import matplotlib.pyplot as plt\n",
    "from sklearn.cluster import KMeans\n",
    "import seaborn as sns\n",
    "plt.rcParams['figure.dpi'] = 125"
   ]
  },
  {
   "cell_type": "code",
   "execution_count": 24,
   "metadata": {
    "id": "2251d0b9"
   },
   "outputs": [],
   "source": [
    "df = pd.read_csv(\"2018.csv\")"
   ]
  },
  {
   "cell_type": "code",
   "execution_count": 25,
   "metadata": {
    "colab": {
     "base_uri": "https://localhost:8080/",
     "height": 987
    },
    "id": "dac4dd63",
    "outputId": "dbf0f5f6-8fb5-440e-828c-90034dd8c473"
   },
   "outputs": [
    {
     "name": "stdout",
     "output_type": "stream",
     "text": [
      "Shape of the data (6667, 14)\n",
      "--------------------------------------------------------------------------------------//\n",
      "<bound method NDFrame.describe of          NO    TANGGAL         WAKTU  LINTANG      BUJUR     KEDA    Mag   \\\n",
      "0        1.0  1/1/2018  00:43:05 UTC  11.65 LS  117.61 BT   10 Km  4.2 SR   \n",
      "1        2.0  1/1/2018  00:52:32 UTC   0.33 LS  123.73 BT  112 Km  5.1 SR   \n",
      "2        3.0  1/1/2018  02:47:53 UTC    1.4 LS  120.47 BT   10 Km  2.4 SR   \n",
      "3        4.0  1/1/2018  03:03:26 UTC   9.42 LS   117.9 BT   24 Km  2.4 SR   \n",
      "4        5.0  1/1/2018  03:07:09 UTC   1.42 LU  122.04 BT   17 Km  1.9 SR   \n",
      "...      ...       ...           ...       ...        ...     ...     ...   \n",
      "6662  1289.0  8/3/2018  21:17:24 UTC   8.46 LS  116.53 BT   10 Km  2.2 SR   \n",
      "6663  1289.0  8/3/2018  21:28:19 UTC   8.71 LS  116.36 BT   10 Km  2.5 SR   \n",
      "6664  1289.0  8/3/2018  22:09:47 UTC    9.5 LS  120.77 BT   68 Km    4 SR   \n",
      "6665  1289.0  8/3/2018  23:56:38 UTC   8.58 LS  116.49 BT   17 Km  2.9 SR   \n",
      "6666  1289.0  8/3/2018  23:59:32 UTC   8.78 LS   116.4 BT   19 Km  2.4 SR   \n",
      "\n",
      "     TypeMag    smaj   smin   az    rms  cPhase                         Region  \n",
      "0        MLv   7.912  2.807  233  0.581      14    South of Sumbawa, Indonesia  \n",
      "1        MLv  10.316  0.932   54  0.904      39  Minahassa Peninsula, Sulawesi  \n",
      "2        MLv   3.220  1.196  137  0.682       5            Sulawesi, Indonesia  \n",
      "3        MLv   1.206  0.596  279  0.122       6      Sumbawa Region, Indonesia  \n",
      "4        MLv   1.299  0.533  232  0.027       5  Minahassa Peninsula, Sulawesi  \n",
      "...      ...     ...    ...  ...    ...     ...                            ...  \n",
      "6662     MLv   1.358  0.435  181  0.655       7      Sumbawa Region, Indonesia  \n",
      "6663     MLv   2.042  0.387  189  0.480       7      Sumbawa Region, Indonesia  \n",
      "6664     MLv   3.457  1.447  286  0.858       5        Sumba Region, Indonesia  \n",
      "6665     MLv   6.771  0.414  161  0.328      10      Sumbawa Region, Indonesia  \n",
      "6666     MLv   1.366  0.462  208  0.332       7      Sumbawa Region, Indonesia  \n",
      "\n",
      "[6667 rows x 14 columns]>\n",
      "--------------------------------------------------------------------------------------//\n",
      "<class 'pandas.core.frame.DataFrame'>\n",
      "RangeIndex: 6667 entries, 0 to 6666\n",
      "Data columns (total 14 columns):\n",
      " #   Column     Non-Null Count  Dtype  \n",
      "---  ------     --------------  -----  \n",
      " 0   NO         5951 non-null   float64\n",
      " 1   TANGGAL    6667 non-null   object \n",
      " 2   WAKTU      6667 non-null   object \n",
      " 3    LINTANG   6667 non-null   object \n",
      " 4    BUJUR     6667 non-null   object \n",
      " 5    KEDA      6667 non-null   object \n",
      " 6    Mag       6667 non-null   object \n",
      " 7   TypeMag    6667 non-null   object \n",
      " 8   smaj       6667 non-null   float64\n",
      " 9   smin       6667 non-null   float64\n",
      " 10  az         6667 non-null   int64  \n",
      " 11  rms        6667 non-null   float64\n",
      " 12  cPhase     6667 non-null   int64  \n",
      " 13  Region     6667 non-null   object \n",
      "dtypes: float64(4), int64(2), object(8)\n",
      "memory usage: 729.3+ KB\n",
      "None\n",
      "--------------------------------------------------------------------------------------//\n"
     ]
    },
    {
     "data": {
      "text/html": [
       "<div>\n",
       "<style scoped>\n",
       "    .dataframe tbody tr th:only-of-type {\n",
       "        vertical-align: middle;\n",
       "    }\n",
       "\n",
       "    .dataframe tbody tr th {\n",
       "        vertical-align: top;\n",
       "    }\n",
       "\n",
       "    .dataframe thead th {\n",
       "        text-align: right;\n",
       "    }\n",
       "</style>\n",
       "<table border=\"1\" class=\"dataframe\">\n",
       "  <thead>\n",
       "    <tr style=\"text-align: right;\">\n",
       "      <th></th>\n",
       "      <th>NO</th>\n",
       "      <th>TANGGAL</th>\n",
       "      <th>WAKTU</th>\n",
       "      <th>LINTANG</th>\n",
       "      <th>BUJUR</th>\n",
       "      <th>KEDA</th>\n",
       "      <th>Mag</th>\n",
       "      <th>TypeMag</th>\n",
       "      <th>smaj</th>\n",
       "      <th>smin</th>\n",
       "      <th>az</th>\n",
       "      <th>rms</th>\n",
       "      <th>cPhase</th>\n",
       "      <th>Region</th>\n",
       "    </tr>\n",
       "  </thead>\n",
       "  <tbody>\n",
       "    <tr>\n",
       "      <th>0</th>\n",
       "      <td>1.0</td>\n",
       "      <td>1/1/2018</td>\n",
       "      <td>00:43:05 UTC</td>\n",
       "      <td>11.65 LS</td>\n",
       "      <td>117.61 BT</td>\n",
       "      <td>10 Km</td>\n",
       "      <td>4.2 SR</td>\n",
       "      <td>MLv</td>\n",
       "      <td>7.912</td>\n",
       "      <td>2.807</td>\n",
       "      <td>233</td>\n",
       "      <td>0.581</td>\n",
       "      <td>14</td>\n",
       "      <td>South of Sumbawa, Indonesia</td>\n",
       "    </tr>\n",
       "    <tr>\n",
       "      <th>1</th>\n",
       "      <td>2.0</td>\n",
       "      <td>1/1/2018</td>\n",
       "      <td>00:52:32 UTC</td>\n",
       "      <td>0.33 LS</td>\n",
       "      <td>123.73 BT</td>\n",
       "      <td>112 Km</td>\n",
       "      <td>5.1 SR</td>\n",
       "      <td>MLv</td>\n",
       "      <td>10.316</td>\n",
       "      <td>0.932</td>\n",
       "      <td>54</td>\n",
       "      <td>0.904</td>\n",
       "      <td>39</td>\n",
       "      <td>Minahassa Peninsula, Sulawesi</td>\n",
       "    </tr>\n",
       "    <tr>\n",
       "      <th>2</th>\n",
       "      <td>3.0</td>\n",
       "      <td>1/1/2018</td>\n",
       "      <td>02:47:53 UTC</td>\n",
       "      <td>1.4 LS</td>\n",
       "      <td>120.47 BT</td>\n",
       "      <td>10 Km</td>\n",
       "      <td>2.4 SR</td>\n",
       "      <td>MLv</td>\n",
       "      <td>3.220</td>\n",
       "      <td>1.196</td>\n",
       "      <td>137</td>\n",
       "      <td>0.682</td>\n",
       "      <td>5</td>\n",
       "      <td>Sulawesi, Indonesia</td>\n",
       "    </tr>\n",
       "    <tr>\n",
       "      <th>3</th>\n",
       "      <td>4.0</td>\n",
       "      <td>1/1/2018</td>\n",
       "      <td>03:03:26 UTC</td>\n",
       "      <td>9.42 LS</td>\n",
       "      <td>117.9 BT</td>\n",
       "      <td>24 Km</td>\n",
       "      <td>2.4 SR</td>\n",
       "      <td>MLv</td>\n",
       "      <td>1.206</td>\n",
       "      <td>0.596</td>\n",
       "      <td>279</td>\n",
       "      <td>0.122</td>\n",
       "      <td>6</td>\n",
       "      <td>Sumbawa Region, Indonesia</td>\n",
       "    </tr>\n",
       "    <tr>\n",
       "      <th>4</th>\n",
       "      <td>5.0</td>\n",
       "      <td>1/1/2018</td>\n",
       "      <td>03:07:09 UTC</td>\n",
       "      <td>1.42 LU</td>\n",
       "      <td>122.04 BT</td>\n",
       "      <td>17 Km</td>\n",
       "      <td>1.9 SR</td>\n",
       "      <td>MLv</td>\n",
       "      <td>1.299</td>\n",
       "      <td>0.533</td>\n",
       "      <td>232</td>\n",
       "      <td>0.027</td>\n",
       "      <td>5</td>\n",
       "      <td>Minahassa Peninsula, Sulawesi</td>\n",
       "    </tr>\n",
       "  </tbody>\n",
       "</table>\n",
       "</div>"
      ],
      "text/plain": [
       "   NO    TANGGAL         WAKTU  LINTANG      BUJUR     KEDA    Mag  TypeMag  \\\n",
       "0  1.0  1/1/2018  00:43:05 UTC  11.65 LS  117.61 BT   10 Km  4.2 SR     MLv   \n",
       "1  2.0  1/1/2018  00:52:32 UTC   0.33 LS  123.73 BT  112 Km  5.1 SR     MLv   \n",
       "2  3.0  1/1/2018  02:47:53 UTC    1.4 LS  120.47 BT   10 Km  2.4 SR     MLv   \n",
       "3  4.0  1/1/2018  03:03:26 UTC   9.42 LS   117.9 BT   24 Km  2.4 SR     MLv   \n",
       "4  5.0  1/1/2018  03:07:09 UTC   1.42 LU  122.04 BT   17 Km  1.9 SR     MLv   \n",
       "\n",
       "     smaj   smin   az    rms  cPhase                         Region  \n",
       "0   7.912  2.807  233  0.581      14    South of Sumbawa, Indonesia  \n",
       "1  10.316  0.932   54  0.904      39  Minahassa Peninsula, Sulawesi  \n",
       "2   3.220  1.196  137  0.682       5            Sulawesi, Indonesia  \n",
       "3   1.206  0.596  279  0.122       6      Sumbawa Region, Indonesia  \n",
       "4   1.299  0.533  232  0.027       5  Minahassa Peninsula, Sulawesi  "
      ]
     },
     "execution_count": 25,
     "metadata": {},
     "output_type": "execute_result"
    }
   ],
   "source": [
    "print(f'Shape of the data {df.shape}')\n",
    "print(\"--------------------------------------------------------------------------------------//\")\n",
    "print(df.describe)\n",
    "print(\"--------------------------------------------------------------------------------------//\")\n",
    "print(df.info())\n",
    "print(\"--------------------------------------------------------------------------------------//\")\n",
    "df.head()"
   ]
  },
  {
   "cell_type": "code",
   "execution_count": 26,
   "metadata": {
    "colab": {
     "base_uri": "https://localhost:8080/"
    },
    "id": "d17bbf12",
    "outputId": "18a85627-4ced-4ec4-c388-b1593ca91e83"
   },
   "outputs": [
    {
     "data": {
      "text/plain": [
       "Sumbawa Region, Indonesia        835\n",
       "Minahassa Peninsula, Sulawesi    736\n",
       "Java, Indonesia                  608\n",
       "Banda Sea                        323\n",
       "Southern Sumatra, Indonesia      313\n",
       "                                ... \n",
       "Northeastern China                 1\n",
       "Kyrgyzstan                         1\n",
       "South of Australia                 1\n",
       "Eastern Caucasus                   1\n",
       "Bering Sea                         1\n",
       "Name: Region, Length: 206, dtype: int64"
      ]
     },
     "execution_count": 26,
     "metadata": {},
     "output_type": "execute_result"
    }
   ],
   "source": [
    "df[\"Region\"].value_counts()"
   ]
  },
  {
   "cell_type": "code",
   "execution_count": 27,
   "metadata": {
    "id": "32b3d020"
   },
   "outputs": [],
   "source": [
    "df_sumbawa_info = df[df[\"Region\"] == \"Sumbawa Region, Indonesia\"]"
   ]
  },
  {
   "cell_type": "code",
   "execution_count": 28,
   "metadata": {
    "id": "7e457d10",
    "outputId": "67ad7ba0-a6c5-4727-ac96-4c7347b9bf13"
   },
   "outputs": [
    {
     "data": {
      "text/html": [
       "<div>\n",
       "<style scoped>\n",
       "    .dataframe tbody tr th:only-of-type {\n",
       "        vertical-align: middle;\n",
       "    }\n",
       "\n",
       "    .dataframe tbody tr th {\n",
       "        vertical-align: top;\n",
       "    }\n",
       "\n",
       "    .dataframe thead th {\n",
       "        text-align: right;\n",
       "    }\n",
       "</style>\n",
       "<table border=\"1\" class=\"dataframe\">\n",
       "  <thead>\n",
       "    <tr style=\"text-align: right;\">\n",
       "      <th></th>\n",
       "      <th>LINTANG</th>\n",
       "      <th>BUJUR</th>\n",
       "      <th>Mag</th>\n",
       "    </tr>\n",
       "  </thead>\n",
       "  <tbody>\n",
       "    <tr>\n",
       "      <th>3</th>\n",
       "      <td>9.42 LS</td>\n",
       "      <td>117.9 BT</td>\n",
       "      <td>2.4 SR</td>\n",
       "    </tr>\n",
       "    <tr>\n",
       "      <th>18</th>\n",
       "      <td>9.48 LS</td>\n",
       "      <td>118.11 BT</td>\n",
       "      <td>3.1 SR</td>\n",
       "    </tr>\n",
       "    <tr>\n",
       "      <th>45</th>\n",
       "      <td>8.74 LS</td>\n",
       "      <td>118.35 BT</td>\n",
       "      <td>2.9 SR</td>\n",
       "    </tr>\n",
       "    <tr>\n",
       "      <th>46</th>\n",
       "      <td>8.68 LS</td>\n",
       "      <td>118.36 BT</td>\n",
       "      <td>3.3 SR</td>\n",
       "    </tr>\n",
       "    <tr>\n",
       "      <th>64</th>\n",
       "      <td>9.96 LS</td>\n",
       "      <td>116.59 BT</td>\n",
       "      <td>3.6 SR</td>\n",
       "    </tr>\n",
       "  </tbody>\n",
       "</table>\n",
       "</div>"
      ],
      "text/plain": [
       "    LINTANG      BUJUR     Mag \n",
       "3    9.42 LS   117.9 BT  2.4 SR\n",
       "18   9.48 LS  118.11 BT  3.1 SR\n",
       "45   8.74 LS  118.35 BT  2.9 SR\n",
       "46   8.68 LS  118.36 BT  3.3 SR\n",
       "64   9.96 LS  116.59 BT  3.6 SR"
      ]
     },
     "execution_count": 28,
     "metadata": {},
     "output_type": "execute_result"
    }
   ],
   "source": [
    "df_sumbawa = df_sumbawa_info.iloc[:,[3,4,6]]\n",
    "df_sumbawa.head()"
   ]
  },
  {
   "cell_type": "code",
   "execution_count": 42,
   "id": "bd6ad726",
   "metadata": {},
   "outputs": [
    {
     "data": {
      "text/plain": [
       "Index(['lintang', 'bujur', 'magnitude'], dtype='object')"
      ]
     },
     "execution_count": 42,
     "metadata": {},
     "output_type": "execute_result"
    }
   ],
   "source": [
    "df_sumbawa.rename(columns={\" LINTANG \" : \"lintang\", \" BUJUR \" : \"bujur\", \" Mag \" : \"magnitude\"}, inplace = True)\n",
    "df_sumbawa.columns"
   ]
  },
  {
   "cell_type": "code",
   "execution_count": 44,
   "id": "3010c907",
   "metadata": {},
   "outputs": [],
   "source": [
    "# df_sumbawa[df_sumbawa['lintang'].str.contains(\" LS\")].value_counts\n",
    "# df_sumbawa[df_sumbawa['lintang'].str.contains(\" LU\")].value_counts\n",
    "# df_sumbawa[df_sumbawa['bujur'].str.contains(\" BU\")].value_counts\n",
    "# df_sumbawa[df_sumbawa['bujur'].str.contains(\" BT\")].value_counts\n",
    "\n",
    "#count for the latitude longitude of the most frequent earthquake"
   ]
  },
  {
   "cell_type": "code",
   "execution_count": 45,
   "id": "cc7e7e97",
   "metadata": {},
   "outputs": [
    {
     "name": "stderr",
     "output_type": "stream",
     "text": [
      "C:\\Users\\San-Z30\\AppData\\Local\\Programs\\Python\\Python39\\lib\\site-packages\\pandas\\core\\frame.py:3607: SettingWithCopyWarning: \n",
      "A value is trying to be set on a copy of a slice from a DataFrame.\n",
      "Try using .loc[row_indexer,col_indexer] = value instead\n",
      "\n",
      "See the caveats in the documentation: https://pandas.pydata.org/pandas-docs/stable/user_guide/indexing.html#returning-a-view-versus-a-copy\n",
      "  self._set_item(key, value)\n"
     ]
    }
   ],
   "source": [
    "df_sumbawa[\"lintang\"] = df_sumbawa[\"lintang\"].str.replace(\" LS\", \"\")\n",
    "df_sumbawa[\"lintang\"] = df_sumbawa[\"lintang\"].str.replace(\" LU\", \"\")\n",
    "df_sumbawa[\"bujur\"] = df_sumbawa[\"bujur\"].str.replace(\" BT\", \"\")\n",
    "df_sumbawa[\"bujur\"] = df_sumbawa[\"bujur\"].str.replace(\" BB\", \"\")\n",
    "df_sumbawa[\"magnitude\"] = df_sumbawa[\"magnitude\"].str.replace(\" SR\", \"\")\n"
   ]
  },
  {
   "cell_type": "code",
   "execution_count": 46,
   "id": "21e86e4f",
   "metadata": {},
   "outputs": [
    {
     "name": "stdout",
     "output_type": "stream",
     "text": [
      "<class 'pandas.core.frame.DataFrame'>\n",
      "Int64Index: 835 entries, 3 to 6666\n",
      "Data columns (total 3 columns):\n",
      " #   Column     Non-Null Count  Dtype \n",
      "---  ------     --------------  ----- \n",
      " 0   lintang    835 non-null    object\n",
      " 1   bujur      835 non-null    object\n",
      " 2   magnitude  835 non-null    object\n",
      "dtypes: object(3)\n",
      "memory usage: 26.1+ KB\n"
     ]
    }
   ],
   "source": [
    "df_sumbawa.info()"
   ]
  },
  {
   "cell_type": "code",
   "execution_count": 47,
   "id": "7affd147",
   "metadata": {},
   "outputs": [
    {
     "name": "stdout",
     "output_type": "stream",
     "text": [
      "<class 'pandas.core.frame.DataFrame'>\n",
      "Int64Index: 835 entries, 3 to 6666\n",
      "Data columns (total 3 columns):\n",
      " #   Column     Non-Null Count  Dtype  \n",
      "---  ------     --------------  -----  \n",
      " 0   lintang    835 non-null    float64\n",
      " 1   bujur      835 non-null    float64\n",
      " 2   magnitude  835 non-null    float64\n",
      "dtypes: float64(3)\n",
      "memory usage: 26.1 KB\n"
     ]
    }
   ],
   "source": [
    "for colname in df_sumbawa:\n",
    "    df_sumbawa[colname] = df_sumbawa[colname].astype(\"float\")\n",
    "\n",
    "df_sumbawa.info()"
   ]
  },
  {
   "cell_type": "code",
   "execution_count": 48,
   "id": "defddac9",
   "metadata": {},
   "outputs": [
    {
     "data": {
      "text/html": [
       "<div>\n",
       "<style scoped>\n",
       "    .dataframe tbody tr th:only-of-type {\n",
       "        vertical-align: middle;\n",
       "    }\n",
       "\n",
       "    .dataframe tbody tr th {\n",
       "        vertical-align: top;\n",
       "    }\n",
       "\n",
       "    .dataframe thead th {\n",
       "        text-align: right;\n",
       "    }\n",
       "</style>\n",
       "<table border=\"1\" class=\"dataframe\">\n",
       "  <thead>\n",
       "    <tr style=\"text-align: right;\">\n",
       "      <th></th>\n",
       "      <th>lintang</th>\n",
       "      <th>bujur</th>\n",
       "      <th>magnitude</th>\n",
       "    </tr>\n",
       "  </thead>\n",
       "  <tbody>\n",
       "    <tr>\n",
       "      <th>3</th>\n",
       "      <td>9.42</td>\n",
       "      <td>117.90</td>\n",
       "      <td>2.4</td>\n",
       "    </tr>\n",
       "    <tr>\n",
       "      <th>18</th>\n",
       "      <td>9.48</td>\n",
       "      <td>118.11</td>\n",
       "      <td>3.1</td>\n",
       "    </tr>\n",
       "    <tr>\n",
       "      <th>45</th>\n",
       "      <td>8.74</td>\n",
       "      <td>118.35</td>\n",
       "      <td>2.9</td>\n",
       "    </tr>\n",
       "    <tr>\n",
       "      <th>46</th>\n",
       "      <td>8.68</td>\n",
       "      <td>118.36</td>\n",
       "      <td>3.3</td>\n",
       "    </tr>\n",
       "    <tr>\n",
       "      <th>64</th>\n",
       "      <td>9.96</td>\n",
       "      <td>116.59</td>\n",
       "      <td>3.6</td>\n",
       "    </tr>\n",
       "  </tbody>\n",
       "</table>\n",
       "</div>"
      ],
      "text/plain": [
       "    lintang   bujur  magnitude\n",
       "3      9.42  117.90        2.4\n",
       "18     9.48  118.11        3.1\n",
       "45     8.74  118.35        2.9\n",
       "46     8.68  118.36        3.3\n",
       "64     9.96  116.59        3.6"
      ]
     },
     "execution_count": 48,
     "metadata": {},
     "output_type": "execute_result"
    }
   ],
   "source": [
    "df_sumbawa.head()"
   ]
  },
  {
   "cell_type": "code",
   "execution_count": 59,
   "id": "f997555a",
   "metadata": {},
   "outputs": [
    {
     "data": {
      "image/png": "[encoded data removed]",
      "text/plain": [
       "<Figure size 750x500 with 1 Axes>"
      ]
     },
     "metadata": {
      "needs_background": "light"
     },
     "output_type": "display_data"
    }
   ],
   "source": [
    "cluster = df_sumbawa.iloc[:,[0,1]].values\n",
    "wcss = []\n",
    "\n",
    "for i in range(1,11):\n",
    "  kmeans = KMeans(n_clusters=i, init='k-means++', random_state=42)\n",
    "  kmeans.fit(cluster)\n",
    "\n",
    "  wcss.append(kmeans.inertia_)\n",
    "\n",
    "fig = plt.figure()\n",
    "ax = fig.add_subplot(111, xlabel=\"Number of Clusters\", ylabel=\"WCSS\")\n",
    "plt.plot(range(1,11), wcss)\n",
    "plt.title('The Elbow Point Graph')\n",
    "\n",
    "plt.show()\n",
    "#show the optimal number of clusters"
   ]
  },
  {
   "cell_type": "code",
   "execution_count": 60,
   "metadata": {
    "id": "45fbfe1e",
    "outputId": "20fde228-e94a-4ea0-977c-31bf3840f40e"
   },
   "outputs": [
    {
     "name": "stdout",
     "output_type": "stream",
     "text": [
      "[0 1]\n"
     ]
    }
   ],
   "source": [
    "#the optimal number is 2 (shown on the figure above, when on cluster 2 the wcss value significantly change too!)\n",
    "kmeans = KMeans(n_clusters= 2, init='k-means++', random_state=42)\n",
    "Y = kmeans.fit_predict(df_sumbawa)\n",
    "print(np.unique(Y))"
   ]
  },
  {
   "cell_type": "code",
   "execution_count": 61,
   "metadata": {
    "id": "60c2f79a",
    "outputId": "ec770638-f5dd-4d7e-bc0e-066945217d7a"
   },
   "outputs": [
    {
     "data": {
      "image/png": "[encoded data removed]",
      "text/plain": [
       "<Figure size 1250x1000 with 1 Axes>"
      ]
     },
     "metadata": {
      "needs_background": "light"
     },
     "output_type": "display_data"
    }
   ],
   "source": [
    "plt.figure(figsize=(10,8))\n",
    "plt.scatter(cluster[Y==0,0], cluster[Y==0,1], s=60, c='green', label='Cluster 1')\n",
    "plt.scatter(cluster[Y==1,0], cluster[Y==1,1], s=60, c='red', label='Cluster 2')\n",
    "# plt.scatter(cluster[Y==2,0], cluster[Y==2,1], s=60, c='lime', label='Cluster 3')\n",
    "\n",
    "plt.scatter(kmeans.cluster_centers_[:,0], kmeans.cluster_centers_[:,1], c='black')\n",
    "\n",
    "plt.title('posisi gempa')\n",
    "plt.xlabel('lintang')\n",
    "plt.ylabel('bujur')\n",
    "plt.show()"
   ]
  },
  {
   "cell_type": "code",
   "execution_count": null,
   "metadata": {
    "id": "e796aa9d"
   },
   "outputs": [],
   "source": []
  }
 ],
 "metadata": {
  "colab": {
   "name": "TugasKelompokAIBusiness-Clustering.ipynb",
   "provenance": [],
   "toc_visible": true
  },
  "kernelspec": {
   "display_name": "Python 3",
   "language": "python",
   "name": "python3"
  },
  "language_info": {
   "codemirror_mode": {
    "name": "ipython",
    "version": 3
   },
   "file_extension": ".py",
   "mimetype": "text/x-python",
   "name": "python",
   "nbconvert_exporter": "python",
   "pygments_lexer": "ipython3",
   "version": "3.9.5"
  }
 },
 "nbformat": 4,
 "nbformat_minor": 5
}
