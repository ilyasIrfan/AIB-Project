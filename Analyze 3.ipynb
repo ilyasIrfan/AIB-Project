{
 "cells": [
  {
   "cell_type": "code",
   "execution_count": 1,
   "id": "c841432d",
   "metadata": {},
   "outputs": [],
   "source": [
    "import warnings\n",
    "\n",
    "import matplotlib.pyplot as plt\n",
    "import numpy as np\n",
    "import pandas as pd\n",
    "import seaborn as sns\n",
    "import missingno as msno\n",
    "from IPython.display import display\n",
    "from pandas.api.types import CategoricalDtype\n",
    "from sklearn.tree import DecisionTreeRegressor\n",
    "from category_encoders import MEstimateEncoder\n",
    "from sklearn.cluster import KMeans\n",
    "from sklearn.decomposition import PCA\n",
    "from sklearn.feature_selection import mutual_info_regression\n",
    "from sklearn.model_selection import KFold, cross_val_score\n",
    "from xgboost import XGBRegressor\n",
    "\n",
    "plt.style.use(\"seaborn-whitegrid\")\n",
    "plt.rc(\"figure\", autolayout=True)\n",
    "plt.rc(\n",
    "    \"axes\",\n",
    "    labelweight=\"bold\",\n",
    "    labelsize=\"large\",\n",
    "    titleweight=\"bold\",\n",
    "    titlesize=14,\n",
    "    titlepad=10,\n",
    ")\n",
    "\n",
    "warnings.filterwarnings('ignore')"
   ]
  },
  {
   "cell_type": "code",
   "execution_count": 2,
   "id": "74b80f76",
   "metadata": {},
   "outputs": [
    {
     "data": {
      "text/plain": [
       "Index(['time_date', 'site', 'continent_id', 'buyer_country', 'buyer_region',\n",
       "       'buyer_city', 'distance', 'buyer_id', 'mobile', 'package', 'channel_id',\n",
       "       'buying_date', 'dealing_date', 'adults', 'children', 'room',\n",
       "       'destination_id', 'destination_type', 'regency_continent',\n",
       "       'regency_country', 'regency_market', 'regency_cluster'],\n",
       "      dtype='object')"
      ]
     },
     "execution_count": 2,
     "metadata": {},
     "output_type": "execute_result"
    }
   ],
   "source": [
    "train = pd.read_csv(\"train.csv\")\n",
    "test = pd.read_csv(\"test.csv\")\n",
    "train.drop([\"Unnamed: 0\", \"dealing\", \"cnt\"], axis = 1, inplace = True)\n",
    "test.drop([\"Unnamed: 0\", \"id\"], axis = 1, inplace = True)\n",
    "train.columns"
   ]
  },
  {
   "cell_type": "code",
   "execution_count": 3,
   "id": "d83e6c5b",
   "metadata": {},
   "outputs": [
    {
     "data": {
      "text/plain": [
       "Index(['time_date', 'site', 'continent_id', 'buyer_country', 'buyer_region',\n",
       "       'buyer_city', 'distance', 'buyer_id', 'mobile', 'package', 'channel_id',\n",
       "       'buying_date', 'dealing_date', 'adults', 'children', 'room',\n",
       "       'destination_id', 'destination_type', 'regency_continent',\n",
       "       'regency_country', 'regency_market'],\n",
       "      dtype='object')"
      ]
     },
     "execution_count": 3,
     "metadata": {},
     "output_type": "execute_result"
    }
   ],
   "source": [
    "test.columns"
   ]
  },
  {
   "cell_type": "code",
   "execution_count": 4,
   "id": "331910d6",
   "metadata": {},
   "outputs": [
    {
     "data": {
      "text/plain": [
       "(21018, 21)"
      ]
     },
     "execution_count": 4,
     "metadata": {},
     "output_type": "execute_result"
    }
   ],
   "source": [
    "test.shape"
   ]
  },
  {
   "cell_type": "code",
   "execution_count": 5,
   "id": "9e53199f",
   "metadata": {},
   "outputs": [
    {
     "data": {
      "text/plain": [
       "(343583, 22)"
      ]
     },
     "execution_count": 5,
     "metadata": {},
     "output_type": "execute_result"
    }
   ],
   "source": [
    "train.shape"
   ]
  },
  {
   "cell_type": "code",
   "execution_count": 3,
   "id": "bad03198",
   "metadata": {},
   "outputs": [],
   "source": [
    "#Feature with inconsistent columns and values\n",
    "features_inconsistent = [\"Unnamed: 0\", \"id\", \"dealing\", \"cnt\", \"distance\"]\n",
    "#Feature ID \n",
    "features_int_to_cat = [\"site\",\"continent_id\", \"buyer_country\", \"buyer_region\", \"buyer_city\",\n",
    "                      \"buyer_id\", \"mobile\", \"package\", \"channel_id\", \"destination_id\",\n",
    "                      \"destination_type\", \"regency_continent\", \"regency_country\", \"regency_market\"]\n",
    "#Feature Categorical\n",
    "features_nom = [\"time_date\",\"buying_date\",\"dealing_date\"]\n",
    "\n",
    "\n",
    "def clean(df):\n",
    "    for name in features_inconsistent:\n",
    "        df.drop(name, axis = 1, inplace = True)\n",
    "    return df\n",
    "\n",
    "def encode(df):\n",
    "    for name in features_int_to_cat:\n",
    "        df[name] = df[name].astype(\"category\")\n",
    "    for name in features_nom:\n",
    "        df[name] = df[name].astype(\"category\")\n",
    "        # Add a None category for missing values\n",
    "        if \"None\" not in df[name].cat.categories:\n",
    "            df[name].cat.add_categories(\"None\", inplace=True)\n",
    "    return df\n",
    "\n",
    "def impute(df):\n",
    "    for name in df.select_dtypes(\"number\"):\n",
    "        df[name] = df[name].fillna(0)\n",
    "    for name in df.select_dtypes(\"category\"):\n",
    "        df[name] = df[name].fillna(\"None\")\n",
    "    return df\n",
    "\n",
    "def load_data():\n",
    "    # Read data\n",
    "    df_train = pd.read_csv(\"train.csv\")\n",
    "    df_test = pd.read_csv(\"test.csv\")\n",
    "    # Merge the splits so we can process them together\n",
    "    df = pd.concat([df_train, df_test])\n",
    "    # Preprocessing\n",
    "    df = clean(df)\n",
    "    df = encode(df)\n",
    "    df = impute(df)\n",
    "    # Reform splits\n",
    "    df_train = df.loc[df_train.index, :]\n",
    "    df_test = df.loc[df_test.index, :]\n",
    "    return df_train, df_test"
   ]
  },
  {
   "cell_type": "code",
   "execution_count": 53,
   "id": "52a32167",
   "metadata": {},
   "outputs": [],
   "source": [
    "#df = pd.read_csv(\"train.csv\")\n",
    "#test = pd.read_csv(\"test.csv\")\n",
    "\n",
    "df_train, df_test = load_data()\n",
    "\n",
    "#df.dtypes"
   ]
  },
  {
   "cell_type": "code",
   "execution_count": 54,
   "id": "561d3936",
   "metadata": {},
   "outputs": [
    {
     "data": {
      "text/plain": [
       "time_date            category\n",
       "site                 category\n",
       "continent_id         category\n",
       "buyer_country        category\n",
       "buyer_region         category\n",
       "buyer_city           category\n",
       "buyer_id             category\n",
       "mobile               category\n",
       "package              category\n",
       "channel_id           category\n",
       "buying_date          category\n",
       "dealing_date         category\n",
       "adults                  int64\n",
       "children                int64\n",
       "room                    int64\n",
       "destination_id       category\n",
       "destination_type     category\n",
       "regency_continent    category\n",
       "regency_country      category\n",
       "regency_market       category\n",
       "regency_cluster       float64\n",
       "dtype: object"
      ]
     },
     "execution_count": 54,
     "metadata": {},
     "output_type": "execute_result"
    }
   ],
   "source": [
    "df_train.dtypes"
   ]
  },
  {
   "cell_type": "code",
   "execution_count": 4,
   "id": "d2cb0be4",
   "metadata": {},
   "outputs": [],
   "source": [
    "def score_dataset(X, y, model=XGBRegressor()):\n",
    "    # Label encoding for categoricals\n",
    "    for colname in X.select_dtypes([\"category\"]):\n",
    "        X[colname] = X[colname].cat.codes\n",
    "    # Metric for Housing competition is RMSE (Root Mean Squared Error)\n",
    "    score = cross_val_score(\n",
    "        model, X, y, cv=5, scoring=\"neg_mean_squared_error\",\n",
    "    )\n",
    "    score = -1 * score.mean()\n",
    "    score = np.sqrt(score)\n",
    "    return score"
   ]
  },
  {
   "cell_type": "code",
   "execution_count": 56,
   "id": "918f2b79",
   "metadata": {},
   "outputs": [
    {
     "name": "stdout",
     "output_type": "stream",
     "text": [
      "Baseline score:  30.980330548875017  RMSE\n"
     ]
    }
   ],
   "source": [
    "X = df_train.copy()\n",
    "y = X.pop(\"regency_cluster\")\n",
    "\n",
    "baseline_score = score_dataset(X, y)\n",
    "print(\"Baseline score: \", baseline_score, \" RMSE\")"
   ]
  },
  {
   "cell_type": "code",
   "execution_count": 5,
   "id": "c47f5ac0",
   "metadata": {},
   "outputs": [],
   "source": [
    "def make_mi_scores(X, y):\n",
    "    X = X.copy()\n",
    "    for colname in X.select_dtypes([\"object\", \"category\"]):\n",
    "        X[colname], _ = X[colname].factorize()\n",
    "    # All discrete features should now have integer dtypes\n",
    "    discrete_features = [pd.api.types.is_integer_dtype(t) for t in X.dtypes]\n",
    "    mi_scores = mutual_info_regression(X, y, discrete_features=discrete_features, random_state=0)\n",
    "    mi_scores = pd.Series(mi_scores, name=\"MI Scores\", index=X.columns)\n",
    "    mi_scores = mi_scores.sort_values(ascending=False)\n",
    "    return mi_scores\n",
    "\n",
    "\n",
    "def plot_mi_scores(scores):\n",
    "    scores = scores.sort_values(ascending=True)\n",
    "    width = np.arange(len(scores))\n",
    "    ticks = list(scores.index)\n",
    "    plt.barh(width, scores)\n",
    "    plt.yticks(width, ticks)\n",
    "    plt.title(\"Mutual Information Scores\")"
   ]
  },
  {
   "cell_type": "code",
   "execution_count": 58,
   "id": "fdb700e4",
   "metadata": {},
   "outputs": [
    {
     "data": {
      "image/png": "[encoded data removed]",
      "text/plain": [
       "<Figure size 432x288 with 1 Axes>"
      ]
     },
     "metadata": {},
     "output_type": "display_data"
    }
   ],
   "source": [
    "X = df_train.copy()\n",
    "y = X.pop(\"regency_cluster\")\n",
    "\n",
    "mi_scores = make_mi_scores(X, y)\n",
    "plot_mi_scores(mi_scores)"
   ]
  },
  {
   "cell_type": "code",
   "execution_count": 6,
   "id": "eb0ceb37",
   "metadata": {},
   "outputs": [],
   "source": [
    "def drop_uninformative(df, mi_scores):\n",
    "    return df.loc[:, mi_scores > 0.0]"
   ]
  },
  {
   "cell_type": "code",
   "execution_count": 60,
   "id": "09842b4a",
   "metadata": {},
   "outputs": [
    {
     "data": {
      "text/plain": [
       "destination_id       1.403260\n",
       "buyer_id             0.977548\n",
       "regency_market       0.882650\n",
       "time_date            0.799332\n",
       "regency_country      0.596231\n",
       "buyer_city           0.542621\n",
       "buying_date          0.321681\n",
       "dealing_date         0.316660\n",
       "buyer_region         0.226292\n",
       "buyer_country        0.159221\n",
       "site                 0.120894\n",
       "continent_id         0.100813\n",
       "regency_continent    0.081133\n",
       "channel_id           0.074060\n",
       "destination_type     0.030163\n",
       "package              0.029659\n",
       "adults               0.020915\n",
       "children             0.014083\n",
       "room                 0.003740\n",
       "mobile               0.002705\n",
       "Name: MI Scores, dtype: float64"
      ]
     },
     "execution_count": 60,
     "metadata": {},
     "output_type": "execute_result"
    }
   ],
   "source": [
    "X = df_train.copy()\n",
    "y = X.pop(\"regency_cluster\")\n",
    "X = drop_uninformative(X, mi_scores)\n",
    "\n",
    "mi_scores"
   ]
  },
  {
   "cell_type": "code",
   "execution_count": 7,
   "id": "91c4a395",
   "metadata": {},
   "outputs": [],
   "source": [
    "def label_encode(df):\n",
    "    X = df.copy()\n",
    "    for colname in X.select_dtypes([\"category\"]):\n",
    "        X[colname] = X[colname].cat.codes\n",
    "    return X"
   ]
  },
  {
   "cell_type": "code",
   "execution_count": 8,
   "id": "4aec44b1",
   "metadata": {},
   "outputs": [],
   "source": [
    "#5 features dengan 5 MI tertinggi\n",
    "cluster_features = [\n",
    "    \"destination_id\",\n",
    "    \"buyer_id\",\n",
    "    \"regency_market\",\n",
    "    \"time_date\",\n",
    "    \"regency_country\",\n",
    "]\n",
    "\n",
    "\n",
    "def cluster_labels(df, features, n_clusters=100):\n",
    "    X = df.copy()\n",
    "    for colname in X.select_dtypes([\"object\", \"category\"]):\n",
    "        X[colname], _ = X[colname].factorize()\n",
    "    X_scaled = X.loc[:, features]\n",
    "    X_scaled = (X_scaled - X_scaled.mean(axis=0)) / X_scaled.std(axis=0)\n",
    "    kmeans = KMeans(n_clusters=n_clusters, n_init=50, random_state=0, max_iter = 5)\n",
    "    X_new = pd.DataFrame()\n",
    "    X_new[\"Cluster\"] = kmeans.fit_predict(X_scaled)\n",
    "    return X_new\n",
    "\n",
    "#X = df_train.copy()\n",
    "#y = X.pop(\"regency_cluster\")\n",
    "\n",
    "#X = X.join(cluster_labels(X, cluster_features, n_clusters=100))"
   ]
  },
  {
   "cell_type": "code",
   "execution_count": 120,
   "id": "d0161b86",
   "metadata": {},
   "outputs": [
    {
     "data": {
      "text/plain": [
       "64    12481\n",
       "59     9128\n",
       "68     8474\n",
       "13     8464\n",
       "0      8316\n",
       "      ...  \n",
       "46      725\n",
       "56      657\n",
       "73      644\n",
       "74      497\n",
       "75      402\n",
       "Name: Cluster, Length: 100, dtype: int64"
      ]
     },
     "execution_count": 120,
     "metadata": {},
     "output_type": "execute_result"
    }
   ],
   "source": [
    "X.Cluster.value_counts()"
   ]
  },
  {
   "cell_type": "code",
   "execution_count": 9,
   "id": "7011e6ff",
   "metadata": {},
   "outputs": [],
   "source": [
    "def apply_pca(X, standardize=True):\n",
    "    for colname in X.select_dtypes([\"object\", \"category\"]):\n",
    "        X[colname], _ = X[colname].factorize()\n",
    "    # Standardize\n",
    "    if standardize:\n",
    "        X = (X - X.mean(axis=0)) / X.std(axis=0)\n",
    "    # Create principal components\n",
    "    pca = PCA()\n",
    "    X_pca = pca.fit_transform(X)\n",
    "    # Convert to dataframe\n",
    "    component_names = [f\"PC{i+1}\" for i in range(X_pca.shape[1])]\n",
    "    X_pca = pd.DataFrame(X_pca, columns=component_names)\n",
    "    # Create loadings\n",
    "    loadings = pd.DataFrame(\n",
    "        pca.components_.T,  # transpose the matrix of loadings\n",
    "        columns=component_names,  # so the columns are the principal components\n",
    "        index=X.columns,  # and the rows are the original features\n",
    "    )\n",
    "    return pca, X_pca, loadings\n",
    "\n",
    "\n",
    "def plot_variance(pca, width=8, dpi=100):\n",
    "    # Create figure\n",
    "    fig, axs = plt.subplots(1, 2)\n",
    "    n = pca.n_components_\n",
    "    grid = np.arange(1, n + 1)\n",
    "    # Explained variance\n",
    "    evr = pca.explained_variance_ratio_\n",
    "    axs[0].bar(grid, evr)\n",
    "    axs[0].set(\n",
    "        xlabel=\"Component\", title=\"% Explained Variance\", ylim=(0.0, 1.0)\n",
    "    )\n",
    "    # Cumulative Variance\n",
    "    cv = np.cumsum(evr)\n",
    "    axs[1].plot(np.r_[0, grid], np.r_[0, cv], \"o-\")\n",
    "    axs[1].set(\n",
    "        xlabel=\"Component\", title=\"% Cumulative Variance\", ylim=(0.0, 1.0)\n",
    "    )\n",
    "    # Set up figure\n",
    "    fig.set(figwidth=8, dpi=100)\n",
    "    return axs"
   ]
  },
  {
   "cell_type": "code",
   "execution_count": 10,
   "id": "1817692c",
   "metadata": {},
   "outputs": [],
   "source": [
    "def corrplot(df, method=\"pearson\", annot=True, **kwargs):\n",
    "    for colname in df.select_dtypes([\"object\", \"category\"]):\n",
    "        df[colname], _ = df[colname].factorize()\n",
    "    sns.clustermap(\n",
    "        df.corr(method),\n",
    "        vmin=-1.0,\n",
    "        vmax=1.0,\n",
    "        cmap=\"icefire\",\n",
    "        method=\"complete\",\n",
    "        annot=annot,\n",
    "        **kwargs,\n",
    "    )"
   ]
  },
  {
   "cell_type": "code",
   "execution_count": 73,
   "id": "532d0947",
   "metadata": {},
   "outputs": [
    {
     "data": {
      "image/png": "[encoded data removed]",
      "text/plain": [
       "<Figure size 720x720 with 4 Axes>"
      ]
     },
     "metadata": {},
     "output_type": "display_data"
    }
   ],
   "source": [
    "def corrplot(df, method=\"pearson\", annot=True, **kwargs):\n",
    "    for colname in df.select_dtypes([\"object\", \"category\"]):\n",
    "        df[colname], _ = df[colname].factorize()\n",
    "    sns.clustermap(\n",
    "        df.corr(method),\n",
    "        vmin=-1.0,\n",
    "        vmax=1.0,\n",
    "        cmap=\"icefire\",\n",
    "        method=\"complete\",\n",
    "        annot=annot,\n",
    "        **kwargs,\n",
    "    )\n",
    "\n",
    "\n",
    "corrplot(df_train, annot=None)"
   ]
  },
  {
   "cell_type": "code",
   "execution_count": 28,
   "id": "87d5807e",
   "metadata": {
    "scrolled": true
   },
   "outputs": [
    {
     "data": {
      "image/png": "[encoded data removed]",
      "text/plain": [
       "<Figure size 720x720 with 4 Axes>"
      ]
     },
     "metadata": {},
     "output_type": "display_data"
    }
   ],
   "source": [
    "corrplot(X, annot = None)"
   ]
  },
  {
   "cell_type": "code",
   "execution_count": 11,
   "id": "e64f788e",
   "metadata": {},
   "outputs": [],
   "source": [
    "def pca_components(df, features):\n",
    "    X = df.loc[:, features]\n",
    "    _, X_pca, _ = apply_pca(X)\n",
    "    return X_pca"
   ]
  },
  {
   "cell_type": "code",
   "execution_count": 81,
   "id": "0a08bace",
   "metadata": {},
   "outputs": [
    {
     "data": {
      "text/html": [
       "<div>\n",
       "<style scoped>\n",
       "    .dataframe tbody tr th:only-of-type {\n",
       "        vertical-align: middle;\n",
       "    }\n",
       "\n",
       "    .dataframe tbody tr th {\n",
       "        vertical-align: top;\n",
       "    }\n",
       "\n",
       "    .dataframe thead th {\n",
       "        text-align: right;\n",
       "    }\n",
       "</style>\n",
       "<table border=\"1\" class=\"dataframe\">\n",
       "  <thead>\n",
       "    <tr style=\"text-align: right;\">\n",
       "      <th></th>\n",
       "      <th>PC1</th>\n",
       "      <th>PC2</th>\n",
       "      <th>PC3</th>\n",
       "      <th>PC4</th>\n",
       "      <th>PC5</th>\n",
       "      <th>PC6</th>\n",
       "      <th>PC7</th>\n",
       "      <th>PC8</th>\n",
       "      <th>PC9</th>\n",
       "      <th>PC10</th>\n",
       "      <th>PC11</th>\n",
       "      <th>PC12</th>\n",
       "      <th>PC13</th>\n",
       "      <th>PC14</th>\n",
       "    </tr>\n",
       "  </thead>\n",
       "  <tbody>\n",
       "    <tr>\n",
       "      <th>site</th>\n",
       "      <td>0.476405</td>\n",
       "      <td>-0.017187</td>\n",
       "      <td>-0.220429</td>\n",
       "      <td>-0.149645</td>\n",
       "      <td>0.099879</td>\n",
       "      <td>-0.022758</td>\n",
       "      <td>-0.057679</td>\n",
       "      <td>-0.156915</td>\n",
       "      <td>-0.186454</td>\n",
       "      <td>-0.421262</td>\n",
       "      <td>0.100674</td>\n",
       "      <td>-0.111029</td>\n",
       "      <td>-0.034178</td>\n",
       "      <td>0.653804</td>\n",
       "    </tr>\n",
       "    <tr>\n",
       "      <th>continent_id</th>\n",
       "      <td>0.440223</td>\n",
       "      <td>-0.100204</td>\n",
       "      <td>-0.383869</td>\n",
       "      <td>-0.033419</td>\n",
       "      <td>0.095412</td>\n",
       "      <td>-0.016430</td>\n",
       "      <td>-0.113846</td>\n",
       "      <td>-0.121036</td>\n",
       "      <td>-0.126414</td>\n",
       "      <td>-0.139013</td>\n",
       "      <td>-0.309593</td>\n",
       "      <td>-0.254513</td>\n",
       "      <td>0.140349</td>\n",
       "      <td>-0.628553</td>\n",
       "    </tr>\n",
       "    <tr>\n",
       "      <th>buyer_country</th>\n",
       "      <td>0.454754</td>\n",
       "      <td>0.025352</td>\n",
       "      <td>0.073544</td>\n",
       "      <td>-0.194488</td>\n",
       "      <td>0.018043</td>\n",
       "      <td>-0.072171</td>\n",
       "      <td>-0.008919</td>\n",
       "      <td>-0.190004</td>\n",
       "      <td>0.031666</td>\n",
       "      <td>0.250821</td>\n",
       "      <td>0.581315</td>\n",
       "      <td>0.466585</td>\n",
       "      <td>-0.159788</td>\n",
       "      <td>-0.250063</td>\n",
       "    </tr>\n",
       "    <tr>\n",
       "      <th>buyer_region</th>\n",
       "      <td>0.372063</td>\n",
       "      <td>0.075733</td>\n",
       "      <td>0.316283</td>\n",
       "      <td>-0.302915</td>\n",
       "      <td>0.003992</td>\n",
       "      <td>-0.089317</td>\n",
       "      <td>0.105449</td>\n",
       "      <td>-0.000635</td>\n",
       "      <td>0.074247</td>\n",
       "      <td>0.583552</td>\n",
       "      <td>-0.471053</td>\n",
       "      <td>-0.178045</td>\n",
       "      <td>-0.014347</td>\n",
       "      <td>0.212334</td>\n",
       "    </tr>\n",
       "    <tr>\n",
       "      <th>buyer_city</th>\n",
       "      <td>0.121097</td>\n",
       "      <td>0.123578</td>\n",
       "      <td>0.537960</td>\n",
       "      <td>-0.401929</td>\n",
       "      <td>-0.071279</td>\n",
       "      <td>0.033721</td>\n",
       "      <td>0.156076</td>\n",
       "      <td>0.326510</td>\n",
       "      <td>0.107032</td>\n",
       "      <td>-0.554183</td>\n",
       "      <td>-0.005664</td>\n",
       "      <td>-0.000428</td>\n",
       "      <td>0.138776</td>\n",
       "      <td>-0.209914</td>\n",
       "    </tr>\n",
       "    <tr>\n",
       "      <th>buyer_id</th>\n",
       "      <td>0.024345</td>\n",
       "      <td>0.033236</td>\n",
       "      <td>0.152187</td>\n",
       "      <td>-0.100526</td>\n",
       "      <td>-0.198812</td>\n",
       "      <td>0.613040</td>\n",
       "      <td>-0.732003</td>\n",
       "      <td>0.000706</td>\n",
       "      <td>-0.067332</td>\n",
       "      <td>0.077105</td>\n",
       "      <td>0.018391</td>\n",
       "      <td>-0.040458</td>\n",
       "      <td>0.031019</td>\n",
       "      <td>0.021136</td>\n",
       "    </tr>\n",
       "    <tr>\n",
       "      <th>mobile</th>\n",
       "      <td>-0.052540</td>\n",
       "      <td>-0.071499</td>\n",
       "      <td>0.131647</td>\n",
       "      <td>0.007244</td>\n",
       "      <td>0.367244</td>\n",
       "      <td>-0.623077</td>\n",
       "      <td>-0.618570</td>\n",
       "      <td>0.161212</td>\n",
       "      <td>0.200274</td>\n",
       "      <td>-0.032767</td>\n",
       "      <td>0.021681</td>\n",
       "      <td>-0.026103</td>\n",
       "      <td>0.019331</td>\n",
       "      <td>0.018019</td>\n",
       "    </tr>\n",
       "    <tr>\n",
       "      <th>package</th>\n",
       "      <td>-0.016413</td>\n",
       "      <td>0.360088</td>\n",
       "      <td>-0.351550</td>\n",
       "      <td>-0.181690</td>\n",
       "      <td>-0.239242</td>\n",
       "      <td>0.001428</td>\n",
       "      <td>-0.024812</td>\n",
       "      <td>-0.113302</td>\n",
       "      <td>0.774746</td>\n",
       "      <td>-0.024297</td>\n",
       "      <td>0.088198</td>\n",
       "      <td>-0.170637</td>\n",
       "      <td>0.062202</td>\n",
       "      <td>0.034514</td>\n",
       "    </tr>\n",
       "    <tr>\n",
       "      <th>channel_id</th>\n",
       "      <td>0.167955</td>\n",
       "      <td>0.009385</td>\n",
       "      <td>-0.380416</td>\n",
       "      <td>-0.016312</td>\n",
       "      <td>0.086069</td>\n",
       "      <td>0.136861</td>\n",
       "      <td>0.031990</td>\n",
       "      <td>0.865607</td>\n",
       "      <td>0.003933</td>\n",
       "      <td>0.160806</td>\n",
       "      <td>0.053566</td>\n",
       "      <td>0.121800</td>\n",
       "      <td>-0.052945</td>\n",
       "      <td>0.062460</td>\n",
       "    </tr>\n",
       "    <tr>\n",
       "      <th>destination_id</th>\n",
       "      <td>0.021929</td>\n",
       "      <td>0.645061</td>\n",
       "      <td>0.070280</td>\n",
       "      <td>0.168577</td>\n",
       "      <td>0.129416</td>\n",
       "      <td>-0.011203</td>\n",
       "      <td>-0.032989</td>\n",
       "      <td>0.027092</td>\n",
       "      <td>-0.177770</td>\n",
       "      <td>-0.069051</td>\n",
       "      <td>-0.007194</td>\n",
       "      <td>-0.224255</td>\n",
       "      <td>-0.655977</td>\n",
       "      <td>-0.119765</td>\n",
       "    </tr>\n",
       "    <tr>\n",
       "      <th>destination_type</th>\n",
       "      <td>-0.048315</td>\n",
       "      <td>0.638847</td>\n",
       "      <td>-0.067085</td>\n",
       "      <td>0.017409</td>\n",
       "      <td>0.181711</td>\n",
       "      <td>-0.044472</td>\n",
       "      <td>-0.025542</td>\n",
       "      <td>-0.046101</td>\n",
       "      <td>-0.275584</td>\n",
       "      <td>0.085647</td>\n",
       "      <td>-0.010822</td>\n",
       "      <td>0.224657</td>\n",
       "      <td>0.641433</td>\n",
       "      <td>0.040682</td>\n",
       "    </tr>\n",
       "    <tr>\n",
       "      <th>regency_continent</th>\n",
       "      <td>-0.021186</td>\n",
       "      <td>-0.072359</td>\n",
       "      <td>0.085638</td>\n",
       "      <td>0.021015</td>\n",
       "      <td>0.815611</td>\n",
       "      <td>0.442428</td>\n",
       "      <td>0.139225</td>\n",
       "      <td>-0.108567</td>\n",
       "      <td>0.295535</td>\n",
       "      <td>0.008431</td>\n",
       "      <td>0.048727</td>\n",
       "      <td>-0.063067</td>\n",
       "      <td>0.025164</td>\n",
       "      <td>-0.002937</td>\n",
       "    </tr>\n",
       "    <tr>\n",
       "      <th>regency_country</th>\n",
       "      <td>0.298287</td>\n",
       "      <td>-0.009464</td>\n",
       "      <td>0.261588</td>\n",
       "      <td>0.548044</td>\n",
       "      <td>-0.120545</td>\n",
       "      <td>-0.010150</td>\n",
       "      <td>0.068064</td>\n",
       "      <td>0.122377</td>\n",
       "      <td>0.064897</td>\n",
       "      <td>0.104733</td>\n",
       "      <td>0.396599</td>\n",
       "      <td>-0.503586</td>\n",
       "      <td>0.286052</td>\n",
       "      <td>0.003824</td>\n",
       "    </tr>\n",
       "    <tr>\n",
       "      <th>regency_market</th>\n",
       "      <td>0.308665</td>\n",
       "      <td>0.049915</td>\n",
       "      <td>0.123346</td>\n",
       "      <td>0.558935</td>\n",
       "      <td>-0.083304</td>\n",
       "      <td>0.064527</td>\n",
       "      <td>-0.047965</td>\n",
       "      <td>-0.017090</td>\n",
       "      <td>0.295453</td>\n",
       "      <td>-0.189841</td>\n",
       "      <td>-0.403579</td>\n",
       "      <td>0.518543</td>\n",
       "      <td>-0.043896</td>\n",
       "      <td>0.062401</td>\n",
       "    </tr>\n",
       "  </tbody>\n",
       "</table>\n",
       "</div>"
      ],
      "text/plain": [
       "                        PC1       PC2       PC3       PC4       PC5       PC6  \\\n",
       "site               0.476405 -0.017187 -0.220429 -0.149645  0.099879 -0.022758   \n",
       "continent_id       0.440223 -0.100204 -0.383869 -0.033419  0.095412 -0.016430   \n",
       "buyer_country      0.454754  0.025352  0.073544 -0.194488  0.018043 -0.072171   \n",
       "buyer_region       0.372063  0.075733  0.316283 -0.302915  0.003992 -0.089317   \n",
       "buyer_city         0.121097  0.123578  0.537960 -0.401929 -0.071279  0.033721   \n",
       "buyer_id           0.024345  0.033236  0.152187 -0.100526 -0.198812  0.613040   \n",
       "mobile            -0.052540 -0.071499  0.131647  0.007244  0.367244 -0.623077   \n",
       "package           -0.016413  0.360088 -0.351550 -0.181690 -0.239242  0.001428   \n",
       "channel_id         0.167955  0.009385 -0.380416 -0.016312  0.086069  0.136861   \n",
       "destination_id     0.021929  0.645061  0.070280  0.168577  0.129416 -0.011203   \n",
       "destination_type  -0.048315  0.638847 -0.067085  0.017409  0.181711 -0.044472   \n",
       "regency_continent -0.021186 -0.072359  0.085638  0.021015  0.815611  0.442428   \n",
       "regency_country    0.298287 -0.009464  0.261588  0.548044 -0.120545 -0.010150   \n",
       "regency_market     0.308665  0.049915  0.123346  0.558935 -0.083304  0.064527   \n",
       "\n",
       "                        PC7       PC8       PC9      PC10      PC11      PC12  \\\n",
       "site              -0.057679 -0.156915 -0.186454 -0.421262  0.100674 -0.111029   \n",
       "continent_id      -0.113846 -0.121036 -0.126414 -0.139013 -0.309593 -0.254513   \n",
       "buyer_country     -0.008919 -0.190004  0.031666  0.250821  0.581315  0.466585   \n",
       "buyer_region       0.105449 -0.000635  0.074247  0.583552 -0.471053 -0.178045   \n",
       "buyer_city         0.156076  0.326510  0.107032 -0.554183 -0.005664 -0.000428   \n",
       "buyer_id          -0.732003  0.000706 -0.067332  0.077105  0.018391 -0.040458   \n",
       "mobile            -0.618570  0.161212  0.200274 -0.032767  0.021681 -0.026103   \n",
       "package           -0.024812 -0.113302  0.774746 -0.024297  0.088198 -0.170637   \n",
       "channel_id         0.031990  0.865607  0.003933  0.160806  0.053566  0.121800   \n",
       "destination_id    -0.032989  0.027092 -0.177770 -0.069051 -0.007194 -0.224255   \n",
       "destination_type  -0.025542 -0.046101 -0.275584  0.085647 -0.010822  0.224657   \n",
       "regency_continent  0.139225 -0.108567  0.295535  0.008431  0.048727 -0.063067   \n",
       "regency_country    0.068064  0.122377  0.064897  0.104733  0.396599 -0.503586   \n",
       "regency_market    -0.047965 -0.017090  0.295453 -0.189841 -0.403579  0.518543   \n",
       "\n",
       "                       PC13      PC14  \n",
       "site              -0.034178  0.653804  \n",
       "continent_id       0.140349 -0.628553  \n",
       "buyer_country     -0.159788 -0.250063  \n",
       "buyer_region      -0.014347  0.212334  \n",
       "buyer_city         0.138776 -0.209914  \n",
       "buyer_id           0.031019  0.021136  \n",
       "mobile             0.019331  0.018019  \n",
       "package            0.062202  0.034514  \n",
       "channel_id        -0.052945  0.062460  \n",
       "destination_id    -0.655977 -0.119765  \n",
       "destination_type   0.641433  0.040682  \n",
       "regency_continent  0.025164 -0.002937  \n",
       "regency_country    0.286052  0.003824  \n",
       "regency_market    -0.043896  0.062401  "
      ]
     },
     "execution_count": 81,
     "metadata": {},
     "output_type": "execute_result"
    }
   ],
   "source": [
    "def pca_components(df, features):\n",
    "    X = df.loc[:, features]\n",
    "    _, X_pca, _ = apply_pca(X)\n",
    "    return X_pca\n",
    "\n",
    "\n",
    "pca_features = [\"site\",\"continent_id\", \"buyer_country\", \"buyer_region\", \"buyer_city\",\n",
    "                \"buyer_id\", \"mobile\", \"package\", \"channel_id\", \"destination_id\",\n",
    "                \"destination_type\", \"regency_continent\", \"regency_country\", \"regency_market\"]\n",
    "\n",
    "pca, X_pca, loadings = apply_pca(X[pca_features])\n",
    "\n",
    "loadings"
   ]
  },
  {
   "cell_type": "code",
   "execution_count": 82,
   "id": "eca9e1ca",
   "metadata": {},
   "outputs": [
    {
     "data": {
      "text/plain": [
       "array([<AxesSubplot:title={'center':'% Explained Variance'}, xlabel='Component'>,\n",
       "       <AxesSubplot:title={'center':'% Cumulative Variance'}, xlabel='Component'>],\n",
       "      dtype=object)"
      ]
     },
     "execution_count": 82,
     "metadata": {},
     "output_type": "execute_result"
    },
    {
     "data": {
      "image/png": "[encoded data removed]",
      "text/plain": [
       "<Figure size 800x400 with 2 Axes>"
      ]
     },
     "metadata": {},
     "output_type": "display_data"
    }
   ],
   "source": [
    "plot_variance(pca)"
   ]
  },
  {
   "cell_type": "code",
   "execution_count": 12,
   "id": "dffa2172",
   "metadata": {},
   "outputs": [],
   "source": [
    "class CrossFoldEncoder:\n",
    "    def __init__(self, encoder, **kwargs):\n",
    "        self.encoder_ = encoder\n",
    "        self.kwargs_ = kwargs  \n",
    "        self.cv_ = KFold(n_splits=5)\n",
    "\n",
    "    def fit_transform(self, X, y, cols):\n",
    "        self.fitted_encoders_ = []\n",
    "        self.cols_ = cols\n",
    "        X_encoded = []\n",
    "        for idx_encode, idx_train in self.cv_.split(X):\n",
    "            fitted_encoder = self.encoder_(cols=cols, **self.kwargs_)\n",
    "            fitted_encoder.fit(\n",
    "                X.iloc[idx_encode, :], y.iloc[idx_encode],\n",
    "            )\n",
    "            X_encoded.append(fitted_encoder.transform(X.iloc[idx_train, :])[cols])\n",
    "            self.fitted_encoders_.append(fitted_encoder)\n",
    "        X_encoded = pd.concat(X_encoded)\n",
    "        X_encoded.columns = [name + \"_encoded\" for name in X_encoded.columns]\n",
    "        return X_encoded\n",
    "\n",
    "    def transform(self, X):\n",
    "        from functools import reduce\n",
    "\n",
    "        X_encoded_list = []\n",
    "        for fitted_encoder in self.fitted_encoders_:\n",
    "            X_encoded = fitted_encoder.transform(X)\n",
    "            X_encoded_list.append(X_encoded[self.cols_])\n",
    "        X_encoded = reduce(\n",
    "            lambda x, y: x.add(y, fill_value=0), X_encoded_list\n",
    "        ) / len(X_encoded_list)\n",
    "        X_encoded.columns = [name + \"_encoded\" for name in X_encoded.columns]\n",
    "        return X_encoded\n",
    "\n",
    "#X = df_train.copy()\n",
    "#y = X.pop(\"regency_cluster\")\n",
    "\n",
    "#encoder = CrossFoldEncoder(MEstimateEncoder, m=1)\n",
    "\n",
    "#X = X.join(encoder.fit_transform(X, y, cols=[\"site\", \"continent_id\", \"buyer_country\", \"buyer_region\", \"buyer_city\", \n",
    "#                                               \"channel_id\", \"destination_id\", \"destination_type\", \"regency_continent\",\n",
    "#                                               \"regency_country\", \"regency_market\"]))\n",
    "\n",
    "#print(\"done\")"
   ]
  },
  {
   "cell_type": "code",
   "execution_count": 90,
   "id": "69dd1fb4",
   "metadata": {},
   "outputs": [
    {
     "data": {
      "text/plain": [
       "32"
      ]
     },
     "execution_count": 90,
     "metadata": {},
     "output_type": "execute_result"
    }
   ],
   "source": [
    "df_train.site.nunique()"
   ]
  },
  {
   "cell_type": "code",
   "execution_count": 15,
   "id": "028cbe28",
   "metadata": {},
   "outputs": [],
   "source": [
    "pca_features = [\"site\",\"continent_id\", \"buyer_country\", \"buyer_region\", \"buyer_city\",\n",
    "                \"buyer_id\", \"mobile\", \"package\", \"channel_id\", \"destination_id\",\n",
    "                \"destination_type\", \"regency_continent\", \"regency_country\", \"regency_market\"]\n",
    "\n",
    "def create_features(df, df_test=None):\n",
    "    X = df.copy()\n",
    "    y = X.pop(\"regency_cluster\")\n",
    "    mi_scores = make_mi_scores(X, y)\n",
    "\n",
    "    # Mutual Information\n",
    "    X = drop_uninformative(X, mi_scores)\n",
    "\n",
    "    # Clustering Top 5 MI\n",
    "    X = X.join(cluster_labels(X, cluster_features, n_clusters=100))\n",
    "    \n",
    "    # PCA ID Features\n",
    "    X = X.join(pca_components(X, pca_features))\n",
    "    \n",
    "    X = label_encode(X)\n",
    "\n",
    "    # Target Encoder Rare Value at Categorical Variables\n",
    "    encoder = CrossFoldEncoder(MEstimateEncoder, m=1)\n",
    "    X = X.join(encoder.fit_transform(X, y, cols=[\"site\", \"continent_id\", \"buyer_country\", \"buyer_region\", \"buyer_city\", \n",
    "                                               \"channel_id\", \"destination_id\", \"destination_type\", \"regency_continent\",\n",
    "                                               \"regency_country\", \"regency_market\"]))\n",
    "\n",
    "    return X"
   ]
  },
  {
   "cell_type": "code",
   "execution_count": 135,
   "id": "5d519409",
   "metadata": {},
   "outputs": [
    {
     "data": {
      "text/plain": [
       "(364601, 46)"
      ]
     },
     "execution_count": 135,
     "metadata": {},
     "output_type": "execute_result"
    }
   ],
   "source": [
    "X_train_reshape.shape"
   ]
  },
  {
   "cell_type": "code",
   "execution_count": 136,
   "id": "83405f5b",
   "metadata": {},
   "outputs": [
    {
     "data": {
      "text/plain": [
       "(364601,)"
      ]
     },
     "execution_count": 136,
     "metadata": {},
     "output_type": "execute_result"
    }
   ],
   "source": [
    "y_train.shape"
   ]
  },
  {
   "cell_type": "code",
   "execution_count": 140,
   "id": "48321bc4",
   "metadata": {},
   "outputs": [
    {
     "data": {
      "text/plain": [
       "30.642856017921016"
      ]
     },
     "execution_count": 140,
     "metadata": {},
     "output_type": "execute_result"
    }
   ],
   "source": [
    "score_dataset(X_train_reshape, y_train)"
   ]
  },
  {
   "cell_type": "code",
   "execution_count": 16,
   "id": "071b8934",
   "metadata": {},
   "outputs": [],
   "source": [
    "df_train, df_test = load_data()\n",
    "X_train = create_features(df_train)\n",
    "y_train = df_train.loc[:, \"regency_cluster\"]\n",
    "X_train_reshape = X_train.iloc[:364601]\n",
    "X_test_renew = pd.read_csv(\"test.csv\")"
   ]
  },
  {
   "cell_type": "code",
   "execution_count": 67,
   "id": "98adb14f",
   "metadata": {},
   "outputs": [
    {
     "data": {
      "text/plain": [
       "301547"
      ]
     },
     "execution_count": 67,
     "metadata": {},
     "output_type": "execute_result"
    }
   ],
   "source": [
    "X_train_reshape = X_train.iloc[:364601]"
   ]
  },
  {
   "cell_type": "code",
   "execution_count": 68,
   "id": "2b5e59da",
   "metadata": {},
   "outputs": [],
   "source": [
    "id_number = np.arange(1,364602)\n",
    "\n",
    "df_id = pd.DataFrame(id_number, columns=[\"id\"])"
   ]
  },
  {
   "cell_type": "code",
   "execution_count": 69,
   "id": "d8befc8d",
   "metadata": {},
   "outputs": [
    {
     "data": {
      "text/plain": [
       "364601"
      ]
     },
     "execution_count": 69,
     "metadata": {},
     "output_type": "execute_result"
    }
   ],
   "source": [
    "df_id.id.nunique()"
   ]
  },
  {
   "cell_type": "code",
   "execution_count": 70,
   "id": "6e1279bd",
   "metadata": {},
   "outputs": [
    {
     "data": {
      "text/plain": [
       "364596    364597\n",
       "364597    364598\n",
       "364598    364599\n",
       "364599    364600\n",
       "364600    364601\n",
       "Name: id, dtype: int32"
      ]
     },
     "execution_count": 70,
     "metadata": {},
     "output_type": "execute_result"
    }
   ],
   "source": [
    "df_id.id.tail()"
   ]
  },
  {
   "cell_type": "code",
   "execution_count": 72,
   "id": "f9c3e596",
   "metadata": {},
   "outputs": [
    {
     "data": {
      "text/plain": [
       "(364601, 47)"
      ]
     },
     "execution_count": 72,
     "metadata": {},
     "output_type": "execute_result"
    }
   ],
   "source": [
    "X_train_reshape.shape"
   ]
  },
  {
   "cell_type": "code",
   "execution_count": 73,
   "id": "86322d86",
   "metadata": {},
   "outputs": [],
   "source": [
    "X_train_reshape[\"id\"] = 1"
   ]
  },
  {
   "cell_type": "code",
   "execution_count": 74,
   "id": "51da4dc2",
   "metadata": {},
   "outputs": [],
   "source": [
    "X_train_reshape[\"id\"] = df_id[\"id\"]"
   ]
  },
  {
   "cell_type": "code",
   "execution_count": 77,
   "id": "c83c84ab",
   "metadata": {},
   "outputs": [
    {
     "data": {
      "text/plain": [
       "(364601, 47)"
      ]
     },
     "execution_count": 77,
     "metadata": {},
     "output_type": "execute_result"
    }
   ],
   "source": [
    "X_train_reshape.shape"
   ]
  },
  {
   "cell_type": "code",
   "execution_count": 79,
   "id": "5ce63181",
   "metadata": {},
   "outputs": [
    {
     "data": {
      "text/plain": [
       "Index(['time_date', 'site', 'continent_id', 'buyer_country', 'buyer_region',\n",
       "       'buyer_city', 'buyer_id', 'mobile', 'package', 'channel_id',\n",
       "       'buying_date', 'dealing_date', 'adults', 'children', 'room',\n",
       "       'destination_id', 'destination_type', 'regency_continent',\n",
       "       'regency_country', 'regency_market', 'Cluster', 'PC1', 'PC2', 'PC3',\n",
       "       'PC4', 'PC5', 'PC6', 'PC7', 'PC8', 'PC9', 'PC10', 'PC11', 'PC12',\n",
       "       'PC13', 'PC14', 'site_encoded', 'continent_id_encoded',\n",
       "       'buyer_country_encoded', 'buyer_region_encoded', 'buyer_city_encoded',\n",
       "       'channel_id_encoded', 'destination_id_encoded',\n",
       "       'destination_type_encoded', 'regency_continent_encoded',\n",
       "       'regency_country_encoded', 'regency_market_encoded', 'id'],\n",
       "      dtype='object')"
      ]
     },
     "execution_count": 79,
     "metadata": {},
     "output_type": "execute_result"
    }
   ],
   "source": [
    "X_train_reshape.columns"
   ]
  },
  {
   "cell_type": "code",
   "execution_count": 88,
   "id": "02710191",
   "metadata": {},
   "outputs": [
    {
     "data": {
      "text/plain": [
       "id                   int32\n",
       "time_date            int32\n",
       "site                  int8\n",
       "continent_id          int8\n",
       "buyer_country        int16\n",
       "buyer_region         int16\n",
       "buyer_city           int16\n",
       "buyer_id             int16\n",
       "mobile                int8\n",
       "package               int8\n",
       "channel_id            int8\n",
       "buying_date          int16\n",
       "dealing_date         int16\n",
       "adults               int64\n",
       "children             int64\n",
       "room                 int64\n",
       "destination_id       int16\n",
       "destination_type      int8\n",
       "regency_continent     int8\n",
       "regency_country      int16\n",
       "regency_market       int16\n",
       "dtype: object"
      ]
     },
     "execution_count": 88,
     "metadata": {},
     "output_type": "execute_result"
    }
   ],
   "source": [
    "X_train_renew.dtypes"
   ]
  },
  {
   "cell_type": "code",
   "execution_count": 89,
   "id": "0b73255b",
   "metadata": {},
   "outputs": [
    {
     "data": {
      "text/plain": [
       "id                    int64\n",
       "time_date            object\n",
       "site                  int64\n",
       "continent_id          int64\n",
       "buyer_country         int64\n",
       "buyer_region          int64\n",
       "buyer_city            int64\n",
       "buyer_id              int64\n",
       "mobile                int64\n",
       "package               int64\n",
       "channel_id            int64\n",
       "buying_date          object\n",
       "dealing_date         object\n",
       "adults                int64\n",
       "children              int64\n",
       "room                  int64\n",
       "destination_id        int64\n",
       "destination_type      int64\n",
       "regency_continent     int64\n",
       "regency_country       int64\n",
       "regency_market        int64\n",
       "dtype: object"
      ]
     },
     "execution_count": 89,
     "metadata": {},
     "output_type": "execute_result"
    }
   ],
   "source": [
    "X_test_renew.dtypes"
   ]
  },
  {
   "cell_type": "code",
   "execution_count": 80,
   "id": "28c243fc",
   "metadata": {},
   "outputs": [],
   "source": [
    "X_train_renew = X_train_reshape[[\"id\",\"time_date\", \"site\", \"continent_id\", \"buyer_country\",\n",
    "                                \"buyer_region\", \"buyer_city\", \"buyer_id\", \"mobile\", \"package\",\n",
    "                                \"channel_id\", \"buying_date\", \"dealing_date\", \"adults\", \"children\",\n",
    "                                \"room\", \"destination_id\", \"destination_type\",\"regency_continent\",\n",
    "                                \"regency_country\", \"regency_market\"]]"
   ]
  },
  {
   "cell_type": "code",
   "execution_count": 84,
   "id": "f8b0704d",
   "metadata": {},
   "outputs": [],
   "source": [
    "X_test_renew.drop([\"Unnamed: 0\", \"distance\"], axis = 1, inplace = True)"
   ]
  },
  {
   "cell_type": "code",
   "execution_count": 86,
   "id": "884e59db",
   "metadata": {},
   "outputs": [
    {
     "data": {
      "text/plain": [
       "(21018, 21)"
      ]
     },
     "execution_count": 86,
     "metadata": {},
     "output_type": "execute_result"
    }
   ],
   "source": [
    "X_test_renew.shape"
   ]
  },
  {
   "cell_type": "code",
   "execution_count": 90,
   "id": "0ece1b73",
   "metadata": {},
   "outputs": [],
   "source": [
    "for colname in X_test_renew.select_dtypes([\"object\", \"category\"]):\n",
    "        X_test_renew[colname], _ = X_test_renew[colname].factorize()"
   ]
  },
  {
   "cell_type": "code",
   "execution_count": 99,
   "id": "9ae94666",
   "metadata": {},
   "outputs": [],
   "source": [
    "xgb = XGBRegressor(learning_rate = 0.05, random_state = 0)\n",
    "xgb.fit(X_train_renew,y_train)\n",
    "predictions = xgb.predict(X_test_renew)"
   ]
  },
  {
   "cell_type": "code",
   "execution_count": 97,
   "id": "7e77dd1e",
   "metadata": {},
   "outputs": [
    {
     "name": "stdout",
     "output_type": "stream",
     "text": [
      "Your submission was successfully saved!\n"
     ]
    }
   ],
   "source": [
    "output = pd.DataFrame({'id': X_test_renew.index, 'regency_cluster': predictions})\n",
    "output.to_csv('my_submission_2.csv.csv', index=False)\n",
    "print(\"Your submission was successfully saved!\")"
   ]
  },
  {
   "cell_type": "code",
   "execution_count": 100,
   "id": "ea27b643",
   "metadata": {},
   "outputs": [],
   "source": [
    "submission = pd.read_csv(\"my_submission_1.csv\")"
   ]
  },
  {
   "cell_type": "code",
   "execution_count": 102,
   "id": "f7aaf050",
   "metadata": {},
   "outputs": [
    {
     "data": {
      "text/plain": [
       "id                   int64\n",
       "regency_cluster    float64\n",
       "dtype: object"
      ]
     },
     "execution_count": 102,
     "metadata": {},
     "output_type": "execute_result"
    }
   ],
   "source": [
    "submission.dtypes"
   ]
  },
  {
   "cell_type": "code",
   "execution_count": 103,
   "id": "78ecaf50",
   "metadata": {},
   "outputs": [],
   "source": [
    "submission[\"regency_cluster\"] = submission[\"regency_cluster\"].astype(\"int64\")"
   ]
  },
  {
   "cell_type": "code",
   "execution_count": 104,
   "id": "39f1fce3",
   "metadata": {},
   "outputs": [
    {
     "data": {
      "text/plain": [
       "id                 int64\n",
       "regency_cluster    int64\n",
       "dtype: object"
      ]
     },
     "execution_count": 104,
     "metadata": {},
     "output_type": "execute_result"
    }
   ],
   "source": [
    "submission.dtypes"
   ]
  },
  {
   "cell_type": "code",
   "execution_count": 106,
   "id": "276590e6",
   "metadata": {},
   "outputs": [
    {
     "data": {
      "text/plain": [
       "46"
      ]
     },
     "execution_count": 106,
     "metadata": {},
     "output_type": "execute_result"
    }
   ],
   "source": [
    "submission.regency_cluster.nunique()"
   ]
  },
  {
   "cell_type": "code",
   "execution_count": 123,
   "id": "8377df14",
   "metadata": {},
   "outputs": [
    {
     "data": {
      "text/html": [
       "<div>\n",
       "<style scoped>\n",
       "    .dataframe tbody tr th:only-of-type {\n",
       "        vertical-align: middle;\n",
       "    }\n",
       "\n",
       "    .dataframe tbody tr th {\n",
       "        vertical-align: top;\n",
       "    }\n",
       "\n",
       "    .dataframe thead th {\n",
       "        text-align: right;\n",
       "    }\n",
       "</style>\n",
       "<table border=\"1\" class=\"dataframe\">\n",
       "  <thead>\n",
       "    <tr style=\"text-align: right;\">\n",
       "      <th></th>\n",
       "      <th>time_date</th>\n",
       "      <th>site</th>\n",
       "      <th>continent_id</th>\n",
       "      <th>buyer_country</th>\n",
       "      <th>buyer_region</th>\n",
       "      <th>buyer_city</th>\n",
       "      <th>buyer_id</th>\n",
       "      <th>mobile</th>\n",
       "      <th>package</th>\n",
       "      <th>channel_id</th>\n",
       "      <th>...</th>\n",
       "      <th>dealing_date</th>\n",
       "      <th>adults</th>\n",
       "      <th>children</th>\n",
       "      <th>room</th>\n",
       "      <th>destination_id</th>\n",
       "      <th>destination_type</th>\n",
       "      <th>regency_continent</th>\n",
       "      <th>regency_country</th>\n",
       "      <th>regency_market</th>\n",
       "      <th>regency_cluster</th>\n",
       "    </tr>\n",
       "  </thead>\n",
       "  <tbody>\n",
       "    <tr>\n",
       "      <th>76</th>\n",
       "      <td>2/16/2013 12:03</td>\n",
       "      <td>2</td>\n",
       "      <td>3</td>\n",
       "      <td>66</td>\n",
       "      <td>462</td>\n",
       "      <td>41898</td>\n",
       "      <td>1482</td>\n",
       "      <td>0</td>\n",
       "      <td>0</td>\n",
       "      <td>0</td>\n",
       "      <td>...</td>\n",
       "      <td>3/1/2013</td>\n",
       "      <td>2</td>\n",
       "      <td>0</td>\n",
       "      <td>1</td>\n",
       "      <td>8857</td>\n",
       "      <td>1</td>\n",
       "      <td>1</td>\n",
       "      <td>2</td>\n",
       "      <td>50</td>\n",
       "      <td>26.0</td>\n",
       "    </tr>\n",
       "    <tr>\n",
       "      <th>110</th>\n",
       "      <td>10/10/2014 17:18</td>\n",
       "      <td>2</td>\n",
       "      <td>3</td>\n",
       "      <td>66</td>\n",
       "      <td>462</td>\n",
       "      <td>41898</td>\n",
       "      <td>1482</td>\n",
       "      <td>0</td>\n",
       "      <td>1</td>\n",
       "      <td>0</td>\n",
       "      <td>...</td>\n",
       "      <td>4/7/2015</td>\n",
       "      <td>2</td>\n",
       "      <td>0</td>\n",
       "      <td>1</td>\n",
       "      <td>8855</td>\n",
       "      <td>1</td>\n",
       "      <td>3</td>\n",
       "      <td>2</td>\n",
       "      <td>50</td>\n",
       "      <td>26.0</td>\n",
       "    </tr>\n",
       "    <tr>\n",
       "      <th>835</th>\n",
       "      <td>9/15/2014 17:46</td>\n",
       "      <td>13</td>\n",
       "      <td>1</td>\n",
       "      <td>46</td>\n",
       "      <td>171</td>\n",
       "      <td>19639</td>\n",
       "      <td>4539</td>\n",
       "      <td>0</td>\n",
       "      <td>1</td>\n",
       "      <td>9</td>\n",
       "      <td>...</td>\n",
       "      <td>9/26/2014</td>\n",
       "      <td>2</td>\n",
       "      <td>0</td>\n",
       "      <td>1</td>\n",
       "      <td>468</td>\n",
       "      <td>1</td>\n",
       "      <td>2</td>\n",
       "      <td>3</td>\n",
       "      <td>48</td>\n",
       "      <td>26.0</td>\n",
       "    </tr>\n",
       "    <tr>\n",
       "      <th>1044</th>\n",
       "      <td>12/11/2014 10:50</td>\n",
       "      <td>11</td>\n",
       "      <td>3</td>\n",
       "      <td>205</td>\n",
       "      <td>354</td>\n",
       "      <td>25315</td>\n",
       "      <td>6450</td>\n",
       "      <td>0</td>\n",
       "      <td>1</td>\n",
       "      <td>5</td>\n",
       "      <td>...</td>\n",
       "      <td>1/2/2015</td>\n",
       "      <td>2</td>\n",
       "      <td>0</td>\n",
       "      <td>1</td>\n",
       "      <td>8284</td>\n",
       "      <td>1</td>\n",
       "      <td>1</td>\n",
       "      <td>2</td>\n",
       "      <td>50</td>\n",
       "      <td>26.0</td>\n",
       "    </tr>\n",
       "    <tr>\n",
       "      <th>1180</th>\n",
       "      <td>9/29/2014 7:28</td>\n",
       "      <td>2</td>\n",
       "      <td>3</td>\n",
       "      <td>66</td>\n",
       "      <td>311</td>\n",
       "      <td>33705</td>\n",
       "      <td>6929</td>\n",
       "      <td>1</td>\n",
       "      <td>1</td>\n",
       "      <td>9</td>\n",
       "      <td>...</td>\n",
       "      <td>4/13/2015</td>\n",
       "      <td>2</td>\n",
       "      <td>0</td>\n",
       "      <td>1</td>\n",
       "      <td>11334</td>\n",
       "      <td>1</td>\n",
       "      <td>1</td>\n",
       "      <td>4</td>\n",
       "      <td>96</td>\n",
       "      <td>26.0</td>\n",
       "    </tr>\n",
       "    <tr>\n",
       "      <th>1444</th>\n",
       "      <td>12/26/2013 13:09</td>\n",
       "      <td>2</td>\n",
       "      <td>3</td>\n",
       "      <td>66</td>\n",
       "      <td>174</td>\n",
       "      <td>21356</td>\n",
       "      <td>7523</td>\n",
       "      <td>1</td>\n",
       "      <td>1</td>\n",
       "      <td>9</td>\n",
       "      <td>...</td>\n",
       "      <td>4/6/2014</td>\n",
       "      <td>4</td>\n",
       "      <td>0</td>\n",
       "      <td>2</td>\n",
       "      <td>8791</td>\n",
       "      <td>1</td>\n",
       "      <td>1</td>\n",
       "      <td>4</td>\n",
       "      <td>8</td>\n",
       "      <td>26.0</td>\n",
       "    </tr>\n",
       "    <tr>\n",
       "      <th>1486</th>\n",
       "      <td>8/8/2014 23:02</td>\n",
       "      <td>2</td>\n",
       "      <td>3</td>\n",
       "      <td>66</td>\n",
       "      <td>174</td>\n",
       "      <td>21356</td>\n",
       "      <td>7523</td>\n",
       "      <td>1</td>\n",
       "      <td>1</td>\n",
       "      <td>9</td>\n",
       "      <td>...</td>\n",
       "      <td>5/12/2015</td>\n",
       "      <td>6</td>\n",
       "      <td>0</td>\n",
       "      <td>3</td>\n",
       "      <td>11373</td>\n",
       "      <td>1</td>\n",
       "      <td>1</td>\n",
       "      <td>4</td>\n",
       "      <td>128</td>\n",
       "      <td>26.0</td>\n",
       "    </tr>\n",
       "    <tr>\n",
       "      <th>1609</th>\n",
       "      <td>7/31/2014 17:14</td>\n",
       "      <td>2</td>\n",
       "      <td>3</td>\n",
       "      <td>215</td>\n",
       "      <td>646</td>\n",
       "      <td>51733</td>\n",
       "      <td>7573</td>\n",
       "      <td>0</td>\n",
       "      <td>0</td>\n",
       "      <td>9</td>\n",
       "      <td>...</td>\n",
       "      <td>9/27/2014</td>\n",
       "      <td>6</td>\n",
       "      <td>0</td>\n",
       "      <td>1</td>\n",
       "      <td>11938</td>\n",
       "      <td>1</td>\n",
       "      <td>1</td>\n",
       "      <td>4</td>\n",
       "      <td>8</td>\n",
       "      <td>26.0</td>\n",
       "    </tr>\n",
       "  </tbody>\n",
       "</table>\n",
       "<p>8 rows × 21 columns</p>\n",
       "</div>"
      ],
      "text/plain": [
       "             time_date site continent_id buyer_country buyer_region  \\\n",
       "76     2/16/2013 12:03    2            3            66          462   \n",
       "110   10/10/2014 17:18    2            3            66          462   \n",
       "835    9/15/2014 17:46   13            1            46          171   \n",
       "1044  12/11/2014 10:50   11            3           205          354   \n",
       "1180    9/29/2014 7:28    2            3            66          311   \n",
       "1444  12/26/2013 13:09    2            3            66          174   \n",
       "1486    8/8/2014 23:02    2            3            66          174   \n",
       "1609   7/31/2014 17:14    2            3           215          646   \n",
       "\n",
       "     buyer_city buyer_id mobile package channel_id  ... dealing_date adults  \\\n",
       "76        41898     1482      0       0          0  ...     3/1/2013      2   \n",
       "110       41898     1482      0       1          0  ...     4/7/2015      2   \n",
       "835       19639     4539      0       1          9  ...    9/26/2014      2   \n",
       "1044      25315     6450      0       1          5  ...     1/2/2015      2   \n",
       "1180      33705     6929      1       1          9  ...    4/13/2015      2   \n",
       "1444      21356     7523      1       1          9  ...     4/6/2014      4   \n",
       "1486      21356     7523      1       1          9  ...    5/12/2015      6   \n",
       "1609      51733     7573      0       0          9  ...    9/27/2014      6   \n",
       "\n",
       "      children  room  destination_id destination_type regency_continent  \\\n",
       "76           0     1            8857                1                 1   \n",
       "110          0     1            8855                1                 3   \n",
       "835          0     1             468                1                 2   \n",
       "1044         0     1            8284                1                 1   \n",
       "1180         0     1           11334                1                 1   \n",
       "1444         0     2            8791                1                 1   \n",
       "1486         0     3           11373                1                 1   \n",
       "1609         0     1           11938                1                 1   \n",
       "\n",
       "     regency_country regency_market regency_cluster  \n",
       "76                 2             50            26.0  \n",
       "110                2             50            26.0  \n",
       "835                3             48            26.0  \n",
       "1044               2             50            26.0  \n",
       "1180               4             96            26.0  \n",
       "1444               4              8            26.0  \n",
       "1486               4            128            26.0  \n",
       "1609               4              8            26.0  \n",
       "\n",
       "[8 rows x 21 columns]"
      ]
     },
     "execution_count": 123,
     "metadata": {},
     "output_type": "execute_result"
    }
   ],
   "source": [
    "df_train[df_train[\"regency_cluster\"] == 26.0].head(8)"
   ]
  },
  {
   "cell_type": "code",
   "execution_count": 111,
   "id": "a73f4341",
   "metadata": {},
   "outputs": [
    {
     "data": {
      "text/plain": [
       "array([23, 26, 25, 27, 29, 28, 24, 30, 31, 35, 33, 32, 22, 21, 19, 20, 49,\n",
       "       45, 47, 51, 50, 55, 48, 53, 46, 54, 52, 56, 44, 43, 60, 59, 64, 58,\n",
       "       57, 61, 62, 41, 65, 63, 42, 40, 39, 38, 34, 37], dtype=int64)"
      ]
     },
     "execution_count": 111,
     "metadata": {},
     "output_type": "execute_result"
    }
   ],
   "source": [
    "submission.regency_cluster.unique()"
   ]
  },
  {
   "cell_type": "code",
   "execution_count": 118,
   "id": "546bdb85",
   "metadata": {},
   "outputs": [
    {
     "data": {
      "text/html": [
       "<div>\n",
       "<style scoped>\n",
       "    .dataframe tbody tr th:only-of-type {\n",
       "        vertical-align: middle;\n",
       "    }\n",
       "\n",
       "    .dataframe tbody tr th {\n",
       "        vertical-align: top;\n",
       "    }\n",
       "\n",
       "    .dataframe thead th {\n",
       "        text-align: right;\n",
       "    }\n",
       "</style>\n",
       "<table border=\"1\" class=\"dataframe\">\n",
       "  <thead>\n",
       "    <tr style=\"text-align: right;\">\n",
       "      <th></th>\n",
       "      <th>id</th>\n",
       "      <th>regency_cluster</th>\n",
       "    </tr>\n",
       "  </thead>\n",
       "  <tbody>\n",
       "    <tr>\n",
       "      <th>1</th>\n",
       "      <td>1</td>\n",
       "      <td>26</td>\n",
       "    </tr>\n",
       "    <tr>\n",
       "      <th>5</th>\n",
       "      <td>5</td>\n",
       "      <td>26</td>\n",
       "    </tr>\n",
       "    <tr>\n",
       "      <th>6</th>\n",
       "      <td>6</td>\n",
       "      <td>26</td>\n",
       "    </tr>\n",
       "    <tr>\n",
       "      <th>10</th>\n",
       "      <td>10</td>\n",
       "      <td>26</td>\n",
       "    </tr>\n",
       "    <tr>\n",
       "      <th>17</th>\n",
       "      <td>17</td>\n",
       "      <td>26</td>\n",
       "    </tr>\n",
       "  </tbody>\n",
       "</table>\n",
       "</div>"
      ],
      "text/plain": [
       "    id  regency_cluster\n",
       "1    1               26\n",
       "5    5               26\n",
       "6    6               26\n",
       "10  10               26\n",
       "17  17               26"
      ]
     },
     "execution_count": 118,
     "metadata": {},
     "output_type": "execute_result"
    }
   ],
   "source": [
    "submission[submission[\"regency_cluster\"] == 26].head(5)"
   ]
  },
  {
   "cell_type": "code",
   "execution_count": 119,
   "id": "ced3abc4",
   "metadata": {},
   "outputs": [
    {
     "data": {
      "text/html": [
       "<div>\n",
       "<style scoped>\n",
       "    .dataframe tbody tr th:only-of-type {\n",
       "        vertical-align: middle;\n",
       "    }\n",
       "\n",
       "    .dataframe tbody tr th {\n",
       "        vertical-align: top;\n",
       "    }\n",
       "\n",
       "    .dataframe thead th {\n",
       "        text-align: right;\n",
       "    }\n",
       "</style>\n",
       "<table border=\"1\" class=\"dataframe\">\n",
       "  <thead>\n",
       "    <tr style=\"text-align: right;\">\n",
       "      <th></th>\n",
       "      <th>id</th>\n",
       "      <th>time_date</th>\n",
       "      <th>site</th>\n",
       "      <th>continent_id</th>\n",
       "      <th>buyer_country</th>\n",
       "      <th>buyer_region</th>\n",
       "      <th>buyer_city</th>\n",
       "      <th>buyer_id</th>\n",
       "      <th>mobile</th>\n",
       "      <th>package</th>\n",
       "      <th>...</th>\n",
       "      <th>buying_date</th>\n",
       "      <th>dealing_date</th>\n",
       "      <th>adults</th>\n",
       "      <th>children</th>\n",
       "      <th>room</th>\n",
       "      <th>destination_id</th>\n",
       "      <th>destination_type</th>\n",
       "      <th>regency_continent</th>\n",
       "      <th>regency_country</th>\n",
       "      <th>regency_market</th>\n",
       "    </tr>\n",
       "  </thead>\n",
       "  <tbody>\n",
       "    <tr>\n",
       "      <th>10</th>\n",
       "      <td>10</td>\n",
       "      <td>10</td>\n",
       "      <td>2</td>\n",
       "      <td>3</td>\n",
       "      <td>66</td>\n",
       "      <td>311</td>\n",
       "      <td>48189</td>\n",
       "      <td>51</td>\n",
       "      <td>0</td>\n",
       "      <td>0</td>\n",
       "      <td>...</td>\n",
       "      <td>9</td>\n",
       "      <td>10</td>\n",
       "      <td>2</td>\n",
       "      <td>0</td>\n",
       "      <td>1</td>\n",
       "      <td>12267</td>\n",
       "      <td>6</td>\n",
       "      <td>2</td>\n",
       "      <td>50</td>\n",
       "      <td>1230</td>\n",
       "    </tr>\n",
       "  </tbody>\n",
       "</table>\n",
       "<p>1 rows × 21 columns</p>\n",
       "</div>"
      ],
      "text/plain": [
       "    id  time_date  site  continent_id  buyer_country  buyer_region  \\\n",
       "10  10         10     2             3             66           311   \n",
       "\n",
       "    buyer_city  buyer_id  mobile  package  ...  buying_date  dealing_date  \\\n",
       "10       48189        51       0        0  ...            9            10   \n",
       "\n",
       "    adults  children  room  destination_id  destination_type  \\\n",
       "10       2         0     1           12267                 6   \n",
       "\n",
       "    regency_continent  regency_country  regency_market  \n",
       "10                  2               50            1230  \n",
       "\n",
       "[1 rows x 21 columns]"
      ]
     },
     "execution_count": 119,
     "metadata": {},
     "output_type": "execute_result"
    }
   ],
   "source": [
    "X_test_renew[X_test_renew[\"id\"] == 10]"
   ]
  },
  {
   "cell_type": "code",
   "execution_count": 120,
   "id": "2bb938c5",
   "metadata": {},
   "outputs": [
    {
     "data": {
      "text/html": [
       "<div>\n",
       "<style scoped>\n",
       "    .dataframe tbody tr th:only-of-type {\n",
       "        vertical-align: middle;\n",
       "    }\n",
       "\n",
       "    .dataframe tbody tr th {\n",
       "        vertical-align: top;\n",
       "    }\n",
       "\n",
       "    .dataframe thead th {\n",
       "        text-align: right;\n",
       "    }\n",
       "</style>\n",
       "<table border=\"1\" class=\"dataframe\">\n",
       "  <thead>\n",
       "    <tr style=\"text-align: right;\">\n",
       "      <th></th>\n",
       "      <th>id</th>\n",
       "      <th>time_date</th>\n",
       "      <th>site</th>\n",
       "      <th>continent_id</th>\n",
       "      <th>buyer_country</th>\n",
       "      <th>buyer_region</th>\n",
       "      <th>buyer_city</th>\n",
       "      <th>buyer_id</th>\n",
       "      <th>mobile</th>\n",
       "      <th>package</th>\n",
       "      <th>...</th>\n",
       "      <th>buying_date</th>\n",
       "      <th>dealing_date</th>\n",
       "      <th>adults</th>\n",
       "      <th>children</th>\n",
       "      <th>room</th>\n",
       "      <th>destination_id</th>\n",
       "      <th>destination_type</th>\n",
       "      <th>regency_continent</th>\n",
       "      <th>regency_country</th>\n",
       "      <th>regency_market</th>\n",
       "    </tr>\n",
       "  </thead>\n",
       "  <tbody>\n",
       "    <tr>\n",
       "      <th>17</th>\n",
       "      <td>17</td>\n",
       "      <td>17</td>\n",
       "      <td>2</td>\n",
       "      <td>3</td>\n",
       "      <td>57</td>\n",
       "      <td>342</td>\n",
       "      <td>5021</td>\n",
       "      <td>57</td>\n",
       "      <td>0</td>\n",
       "      <td>0</td>\n",
       "      <td>...</td>\n",
       "      <td>15</td>\n",
       "      <td>14</td>\n",
       "      <td>3</td>\n",
       "      <td>1</td>\n",
       "      <td>1</td>\n",
       "      <td>12008</td>\n",
       "      <td>1</td>\n",
       "      <td>2</td>\n",
       "      <td>50</td>\n",
       "      <td>686</td>\n",
       "    </tr>\n",
       "  </tbody>\n",
       "</table>\n",
       "<p>1 rows × 21 columns</p>\n",
       "</div>"
      ],
      "text/plain": [
       "    id  time_date  site  continent_id  buyer_country  buyer_region  \\\n",
       "17  17         17     2             3             57           342   \n",
       "\n",
       "    buyer_city  buyer_id  mobile  package  ...  buying_date  dealing_date  \\\n",
       "17        5021        57       0        0  ...           15            14   \n",
       "\n",
       "    adults  children  room  destination_id  destination_type  \\\n",
       "17       3         1     1           12008                 1   \n",
       "\n",
       "    regency_continent  regency_country  regency_market  \n",
       "17                  2               50             686  \n",
       "\n",
       "[1 rows x 21 columns]"
      ]
     },
     "execution_count": 120,
     "metadata": {},
     "output_type": "execute_result"
    }
   ],
   "source": [
    "X_test_renew[X_test_renew[\"id\"] == 17]"
   ]
  },
  {
   "cell_type": "code",
   "execution_count": 121,
   "id": "933fbc6c",
   "metadata": {},
   "outputs": [
    {
     "data": {
      "text/html": [
       "<div>\n",
       "<style scoped>\n",
       "    .dataframe tbody tr th:only-of-type {\n",
       "        vertical-align: middle;\n",
       "    }\n",
       "\n",
       "    .dataframe tbody tr th {\n",
       "        vertical-align: top;\n",
       "    }\n",
       "\n",
       "    .dataframe thead th {\n",
       "        text-align: right;\n",
       "    }\n",
       "</style>\n",
       "<table border=\"1\" class=\"dataframe\">\n",
       "  <thead>\n",
       "    <tr style=\"text-align: right;\">\n",
       "      <th></th>\n",
       "      <th>id</th>\n",
       "      <th>time_date</th>\n",
       "      <th>site</th>\n",
       "      <th>continent_id</th>\n",
       "      <th>buyer_country</th>\n",
       "      <th>buyer_region</th>\n",
       "      <th>buyer_city</th>\n",
       "      <th>buyer_id</th>\n",
       "      <th>mobile</th>\n",
       "      <th>package</th>\n",
       "      <th>...</th>\n",
       "      <th>buying_date</th>\n",
       "      <th>dealing_date</th>\n",
       "      <th>adults</th>\n",
       "      <th>children</th>\n",
       "      <th>room</th>\n",
       "      <th>destination_id</th>\n",
       "      <th>destination_type</th>\n",
       "      <th>regency_continent</th>\n",
       "      <th>regency_country</th>\n",
       "      <th>regency_market</th>\n",
       "    </tr>\n",
       "  </thead>\n",
       "  <tbody>\n",
       "    <tr>\n",
       "      <th>6</th>\n",
       "      <td>6</td>\n",
       "      <td>6</td>\n",
       "      <td>2</td>\n",
       "      <td>3</td>\n",
       "      <td>66</td>\n",
       "      <td>311</td>\n",
       "      <td>48189</td>\n",
       "      <td>51</td>\n",
       "      <td>0</td>\n",
       "      <td>0</td>\n",
       "      <td>...</td>\n",
       "      <td>5</td>\n",
       "      <td>6</td>\n",
       "      <td>2</td>\n",
       "      <td>0</td>\n",
       "      <td>1</td>\n",
       "      <td>8271</td>\n",
       "      <td>1</td>\n",
       "      <td>2</td>\n",
       "      <td>50</td>\n",
       "      <td>696</td>\n",
       "    </tr>\n",
       "  </tbody>\n",
       "</table>\n",
       "<p>1 rows × 21 columns</p>\n",
       "</div>"
      ],
      "text/plain": [
       "   id  time_date  site  continent_id  buyer_country  buyer_region  buyer_city  \\\n",
       "6   6          6     2             3             66           311       48189   \n",
       "\n",
       "   buyer_id  mobile  package  ...  buying_date  dealing_date  adults  \\\n",
       "6        51       0        0  ...            5             6       2   \n",
       "\n",
       "   children  room  destination_id  destination_type  regency_continent  \\\n",
       "6         0     1            8271                 1                  2   \n",
       "\n",
       "   regency_country  regency_market  \n",
       "6               50             696  \n",
       "\n",
       "[1 rows x 21 columns]"
      ]
     },
     "execution_count": 121,
     "metadata": {},
     "output_type": "execute_result"
    }
   ],
   "source": [
    "X_test_renew[X_test_renew[\"id\"] == 6]"
   ]
  },
  {
   "cell_type": "code",
   "execution_count": 122,
   "id": "818e674d",
   "metadata": {},
   "outputs": [
    {
     "name": "stdout",
     "output_type": "stream",
     "text": [
      "Your submission was successfully saved!\n"
     ]
    }
   ],
   "source": [
    "output = pd.DataFrame({'id': submission.id, 'regency_cluster': submission.regency_cluster})\n",
    "output.to_csv('my_submission_final.csv', index=False)\n",
    "print(\"Your submission was successfully saved!\")"
   ]
  },
  {
   "cell_type": "code",
   "execution_count": null,
   "id": "83e79736",
   "metadata": {},
   "outputs": [],
   "source": []
  }
 ],
 "metadata": {
  "kernelspec": {
   "display_name": "Python 3",
   "language": "python",
   "name": "python3"
  },
  "language_info": {
   "codemirror_mode": {
    "name": "ipython",
    "version": 3
   },
   "file_extension": ".py",
   "mimetype": "text/x-python",
   "name": "python",
   "nbconvert_exporter": "python",
   "pygments_lexer": "ipython3",
   "version": "3.9.5"
  }
 },
 "nbformat": 4,
 "nbformat_minor": 5
}
